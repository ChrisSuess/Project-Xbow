{
 "cells": [
  {
   "cell_type": "markdown",
   "metadata": {
    "deletable": true,
    "editable": true
   },
   "source": [
    "### xbow library proof of concept\n",
    "This notebook illiustrates how we might put together an xbow Python library to crreate and manage a cluster of instances that have a shared filesystem. In the walkthrough:\n",
    "\n",
    "1. Some basic functions and classes are defined\n",
    "2. A collection (list) of instances is created\n",
    "3. A shared filesystem is created and attached to the instances\n",
    "4. A gromacs test job is run on each instance, with selected files written to the shared filesystem\n",
    "5. The filesyetem and instances are terminated."
   ]
  },
  {
   "cell_type": "code",
   "execution_count": null,
   "metadata": {
    "collapsed": true,
    "deletable": true,
    "editable": true
   },
   "outputs": [],
   "source": [
    "import boto, boto.ec2, boto.ec2.blockdevicemapping, boto.manage\n",
    "import boto3\n",
    "import paramiko\n",
    "import time"
   ]
  },
  {
   "cell_type": "markdown",
   "metadata": {
    "deletable": true,
    "editable": true
   },
   "source": [
    "A few paremeters - you will need to set `key_name` and `pemfile` for certain."
   ]
  },
  {
   "cell_type": "code",
   "execution_count": null,
   "metadata": {
    "collapsed": true,
    "deletable": true,
    "editable": true
   },
   "outputs": [],
   "source": [
    "region = 'eu-west-1'\n",
    "price = '0.4'\n",
    "instance_type = 'm4.large'\n",
    "image_id = 'ami-9d8421e4'\n",
    "username = 'ubuntu'\n",
    "disk_size = 20\n",
    "disk_delete_on_termination = True\n",
    "security_groups = ['efs-walkthrough1-ec2-sg']\n",
    "key_name = 'calAWS'\n",
    "pemfile = '../calAWS.pem'"
   ]
  },
  {
   "cell_type": "markdown",
   "metadata": {
    "deletable": true,
    "editable": true
   },
   "source": [
    "The cell below is based heavily on yiour existing xbow.py script, Chris. "
   ]
  },
  {
   "cell_type": "code",
   "execution_count": null,
   "metadata": {
    "collapsed": true,
    "deletable": true,
    "editable": true
   },
   "outputs": [],
   "source": [
    "ec2 = boto.ec2.connect_to_region(region)\n",
    "\n",
    "bdm = boto.ec2.blockdevicemapping.BlockDeviceMapping()\n",
    "bdm['/dev/sda1'] = boto.ec2.blockdevicemapping.BlockDeviceType(volume_type='gp2', \n",
    "                                                               size=disk_size, \n",
    "                                                               delete_on_termination=disk_delete_on_termination)\n",
    "bdm['/dev/sdb'] = boto.ec2.blockdevicemapping.BlockDeviceType(ephemeral_name='ephemeral0')\n",
    "\n",
    "def spot_instances_pool(ec2, \n",
    "                        pool_name='DefaultPool',\n",
    "                        count=1,\n",
    "                        price=1.0,\n",
    "                        image_id=None,\n",
    "                        instance_type=None,\n",
    "                        security_groups=None,\n",
    "                        key_name=None,\n",
    "                        block_device_map=None):\n",
    "    spot_reqs = ec2.request_spot_instances(price=price,\n",
    "                                       image_id=image_id,\n",
    "                                       count=count,\n",
    "                                       instance_type=instance_type,\n",
    "                                       security_groups=security_groups,\n",
    "                                       key_name=key_name,\n",
    "                                       block_device_map=block_device_map\n",
    "                                      )\n",
    "    request_codes = [s.status.code for s in spot_reqs]\n",
    "    request_ids = [s.id for s in spot_reqs]\n",
    "    \n",
    "    while 'pending-evaluation' in request_codes:\n",
    "        time.sleep(5)\n",
    "        spot_reqs = ec2.get_all_spot_instance_requests(request_ids=request_ids)\n",
    "        request_codes = [s.status.code for s in spot_reqs]\n",
    "    \n",
    "    if request_codes.count('fulfilled') != count:\n",
    "        print 'Error: not all spot requests were fulfilled'\n",
    "    print request_codes\n",
    "    request_ids = []\n",
    "    instance_ids = []\n",
    "    for s in spot_reqs:\n",
    "        if s.status.code == 'fulfilled':\n",
    "            request_ids.append(s.id)\n",
    "            instance_ids.append(s.instance_id)\n",
    "    \n",
    "    while None in instance_ids:\n",
    "        time.sleep(5)\n",
    "        spot_reqs = ec2.get_all_spot_instance_requests(request_ids=request_ids)\n",
    "        instance_ids = [s.instance_id for s in spot_reqs]\n",
    "    print instance_ids\n",
    "    \n",
    "    time.sleep(2)\n",
    "    reservations = ec2.get_all_instances(instance_ids=instance_ids)\n",
    "    instances = reservations[0].instances\n",
    "    i = 0\n",
    "    for instance in instances:\n",
    "        instance.add_tag('PoolName', pool_name)\n",
    "        i += 1\n",
    "    instance_states = [instance.state for instance in instances]\n",
    "    \n",
    "    while 'pending' in instance_states:\n",
    "        time.sleep(5)\n",
    "        for instance in instances:\n",
    "            instance.update()\n",
    "        instance_states = [instance.state for instance in instances]\n",
    "    if instance_states.count('running') != count:\n",
    "        print 'Error - not all instances are running'\n",
    "    print instance_states\n",
    "    \n",
    "    instance_ids = []\n",
    "    running_instances = []\n",
    "    for instance in instances:\n",
    "        if instance.state == 'running':\n",
    "            instance_ids.append(instance.id)\n",
    "            running_instances.append(instance)\n",
    "    \n",
    "    all_instance_statuses = ec2.get_all_instance_status(instance_ids=instance_ids)\n",
    "    system_statuses = [inst_stat.system_status.status for inst_stat in all_instance_statuses]\n",
    "    instance_statuses = [inst_stat.instance_status.status for inst_stat in all_instance_statuses]\n",
    "    while 'initializing' in system_statuses or 'initializing' in instance_statuses:\n",
    "        all_instance_statuses = ec2.get_all_instance_status(instance_ids=instance_ids)\n",
    "        system_statuses = [inst_stat.system_status.status for inst_stat in all_instance_statuses]\n",
    "        instance_statuses = [inst_stat.instance_status.status for inst_stat in all_instance_statuses]\n",
    "        time.sleep(5)\n",
    "    return running_instances"
   ]
  },
  {
   "cell_type": "markdown",
   "metadata": {
    "deletable": true,
    "editable": true
   },
   "source": [
    "Again, based in part on the code in xbow.py:"
   ]
  },
  {
   "cell_type": "code",
   "execution_count": null,
   "metadata": {
    "collapsed": false,
    "deletable": true,
    "editable": true
   },
   "outputs": [],
   "source": [
    "class ConnectedInstance(object):\n",
    "    \"\"\" An Instance you can talk to\"\"\"\n",
    "    def __init__(self, instance, connection, username, key_filename):\n",
    "        self.instance = instance\n",
    "        self.connection = connection\n",
    "        self.pool_name = instance.tags['PoolName']\n",
    "        status=connection.get_all_instance_status(instance_ids=[instance.id])[0]\n",
    "        self.system_status = status.system_status.status\n",
    "        self.instance_status = status.instance_status.status\n",
    "        self.state = self.instance.state\n",
    "        if self.state != 'running' or self.system_status != 'ok' or self.instance_status != 'ok':\n",
    "            self.status = 'Unwell'\n",
    "        else:\n",
    "            self.status = 'Ready'\n",
    "        if self.status != 'Ready':\n",
    "            return\n",
    "        \n",
    "        \n",
    "        self.sshclient = paramiko.SSHClient()\n",
    "        self.sshclient.set_missing_host_key_policy(paramiko.AutoAddPolicy())\n",
    "        self.sshclient.connect(instance.ip_address, username=username, key_filename=key_filename, timeout=10)\n",
    "        self.transport = self.sshclient.get_transport()\n",
    "        \n",
    "    \n",
    "    def update(self):\n",
    "        \"\"\"Update status info\"\"\"\n",
    "        self.instance.update()\n",
    "        self.state = self.instance.state\n",
    "        if self.state == 'terminated' or self.status == 'shutting-down':\n",
    "            self.status = 'Terminated'\n",
    "            self.instance_status = None\n",
    "            self.system_status = None\n",
    "            return\n",
    "        else:\n",
    "            status=self.connection.get_all_instance_status(instance_ids=[self.instance.id])[0]\n",
    "            self.system_status = status.system_status.status\n",
    "            self.instance_status = status.instance_status.status\n",
    "        if self.state != 'running' or self.system_status != 'ok' or self.instance_status != 'ok':\n",
    "            self.status = 'Unwell'\n",
    "        else:\n",
    "            if self.status == 'Unwell' or self.status == 'Unknown':\n",
    "                self.status = 'Ready'\n",
    "        if self.status == 'Busy':\n",
    "            while self.channel.recv_ready():\n",
    "                self.output += self.channel.recv(1024)\n",
    "            if self.channel.exit_status_ready():\n",
    "                self.status = 'Ready'\n",
    "                self.exit_status = self.channel.recv_exit_status()\n",
    "                \n",
    "    def wait(self, timeout=None):\n",
    "        \"\"\"wait until not busy\"\"\"\n",
    "        start_time = time.time()\n",
    "        max_wait_exceeded = False\n",
    "        if self.status == 'Busy':\n",
    "            while not self.channel.exit_status_ready() and not max_wait_exceeded:\n",
    "                if timeout is not None:\n",
    "                    elapsed_time = time.time() - start_time\n",
    "                    max_wait_exceeded = elapsed_time > timeout\n",
    "                if max_wait_exceeded:\n",
    "                    return\n",
    "                while self.channel.recv_ready():\n",
    "                    self.output += self.channel.recv(1024)\n",
    "                time.sleep(5)\n",
    "                \n",
    "            while self.channel.recv_ready():\n",
    "                self.output += self.channel.recv(1024)\n",
    "            self.status = 'Ready'\n",
    "            self.exit_status = self.channel.recv_exit_status()\n",
    "            \n",
    "    def terminate(self, force=False):\n",
    "        \"\"\"Terminate the instance\"\"\"\n",
    "        if force or self.status is not \"Busy\":\n",
    "            self.connection.terminate_instances(instance_ids=[self.instance.id])\n",
    "        else:\n",
    "            print 'Error - the instance is busy'\n",
    "            \n",
    "    def exec_command(self, script, block=True):\n",
    "        \"\"\"send a command to the instance\"\"\"\n",
    "        \n",
    "        self.update()\n",
    "        if self.status == 'Unwell':\n",
    "            self.output = 'Error - this instance is unwell'\n",
    "            self.exit_status = -1\n",
    "            return\n",
    "        \n",
    "        if self.status != 'Ready':\n",
    "            self.output = 'Error - this instance is not ready'\n",
    "            self.exit_status = -1\n",
    "            return\n",
    "        \n",
    "        transport = self.sshclient.get_transport()\n",
    "        self.channel = transport.open_session()\n",
    "        self.channel.set_combine_stderr(True)\n",
    "        self.channel.exec_command(script)\n",
    "        self.status='Busy'\n",
    "        self.exit_status=None\n",
    "        self.output = ''\n",
    "        if block:\n",
    "            self.wait()\n",
    "            return\n",
    "        else:\n",
    "            return\n",
    "        "
   ]
  },
  {
   "cell_type": "markdown",
   "metadata": {
    "deletable": true,
    "editable": true
   },
   "source": [
    "### OK, ready to go. Begin by creating a pool (list) of instances"
   ]
  },
  {
   "cell_type": "code",
   "execution_count": null,
   "metadata": {
    "collapsed": false,
    "deletable": true,
    "editable": true
   },
   "outputs": [],
   "source": [
    "instances = spot_instances_pool(ec2, pool_name='MDPool', count=2,\n",
    "                        price=price,\n",
    "                        image_id=image_id,\n",
    "                        instance_type=instance_type,\n",
    "                        security_groups=security_groups,\n",
    "                        key_name=key_name,\n",
    "                        block_device_map=bdm)\n",
    "print instances"
   ]
  },
  {
   "cell_type": "markdown",
   "metadata": {
    "deletable": true,
    "editable": true
   },
   "source": [
    "### Turn them into 'Connected Instances':"
   ]
  },
  {
   "cell_type": "code",
   "execution_count": null,
   "metadata": {
    "collapsed": false,
    "deletable": true,
    "editable": true
   },
   "outputs": [],
   "source": [
    "cis = [ConnectedInstance(i, ec2, username, '../calAWS.pem') for i in instances]"
   ]
  },
  {
   "cell_type": "code",
   "execution_count": null,
   "metadata": {
    "collapsed": false,
    "deletable": true,
    "editable": true
   },
   "outputs": [],
   "source": [
    "print cis[0].status\n",
    "print cis[0].instance.state\n",
    "cis[0].update()\n",
    "print cis[0].status\n",
    "print cis[0].system_status, cis[0].instance_status, cis[0].state, cis[0].pool_name"
   ]
  },
  {
   "cell_type": "markdown",
   "metadata": {
    "deletable": true,
    "editable": true
   },
   "source": [
    "### Create the EFS filesystem:"
   ]
  },
  {
   "cell_type": "code",
   "execution_count": null,
   "metadata": {
    "collapsed": false,
    "deletable": true,
    "editable": true
   },
   "outputs": [],
   "source": [
    "efs_client = boto3.client('efs')\n",
    "response = efs_client.create_file_system(CreationToken='MyTestFileSystem')\n",
    "print response"
   ]
  },
  {
   "cell_type": "code",
   "execution_count": null,
   "metadata": {
    "collapsed": false,
    "deletable": true,
    "editable": true
   },
   "outputs": [],
   "source": [
    "FileSystemId = response['FileSystemId']\n",
    "print FileSystemId"
   ]
  },
  {
   "cell_type": "markdown",
   "metadata": {
    "deletable": true,
    "editable": true
   },
   "source": [
    "### Before we can mount the filesystem on the instances, there is a bit of work to do.\n",
    "#### Firstly we need to know the subnet id in each availability zone in our region:"
   ]
  },
  {
   "cell_type": "code",
   "execution_count": null,
   "metadata": {
    "collapsed": false,
    "deletable": true,
    "editable": true
   },
   "outputs": [],
   "source": [
    "ec2_client = boto3.client('ec2')\n",
    "sn_all = ec2_client.describe_subnets()['Subnets']\n",
    "az_subnetid = {}\n",
    "for sn in sn_all:\n",
    "    az_subnetid[sn['AvailabilityZone']] = sn['SubnetId']\n",
    "for az in az_subnetid:\n",
    "    print az, az_subnetid[az]"
   ]
  },
  {
   "cell_type": "markdown",
   "metadata": {
    "deletable": true,
    "editable": true
   },
   "source": [
    "#### Next we need to knopw the security group ids associated with our security group names."
   ]
  },
  {
   "cell_type": "code",
   "execution_count": null,
   "metadata": {
    "collapsed": false,
    "deletable": true,
    "editable": true
   },
   "outputs": [],
   "source": [
    "sg_all = ec2_client.describe_security_groups()['SecurityGroups']\n",
    "sgnameid = {}\n",
    "for sg in sg_all:\n",
    "    sgnameid[sg['GroupName']] = sg['GroupId']\n",
    "for sgname in sgnameid:\n",
    "    print sgname, sgnameid[sgname]"
   ]
  },
  {
   "cell_type": "markdown",
   "metadata": {
    "deletable": true,
    "editable": true
   },
   "source": [
    "#### Now we can create the mount targets - one for each availability zone. The security group (efs-walkthrough1-mt-sg) allows them to have read-write access to the instance when they get mounted (later)"
   ]
  },
  {
   "cell_type": "code",
   "execution_count": null,
   "metadata": {
    "collapsed": false,
    "deletable": true,
    "editable": true
   },
   "outputs": [],
   "source": [
    "for az in az_subnetid:\n",
    "    response2 = efs_client.create_mount_target(FileSystemId=response['FileSystemId'], \n",
    "                                           SubnetId=az_subnetid[az], \n",
    "                                           SecurityGroups=[sgnameid['efs-walkthrough1-mt-sg']]\n",
    "                                          )\n",
    "    print response2\n",
    "\n",
    "MountTargetIds = [ mt['MountTargetId'] for mt in efs_client.describe_mount_targets(FileSystemId=FileSystemId)['MountTargets']]"
   ]
  },
  {
   "cell_type": "markdown",
   "metadata": {
    "deletable": true,
    "editable": true
   },
   "source": [
    "#### Before we can mount the filesystem on the instances, we have to install the nfs client (it would be nice to update the ami we use so this is not neccessary). Note how, by using the `block=False` option, all jobs run concurrently."
   ]
  },
  {
   "cell_type": "code",
   "execution_count": null,
   "metadata": {
    "collapsed": false,
    "deletable": true,
    "editable": true
   },
   "outputs": [],
   "source": [
    "for ci in cis:\n",
    "    ci.exec_command('sudo apt-get update; sudo apt-get install nfs-common -y; mkdir ~/efs-mount-point', block=False)\n",
    "for ci in cis:\n",
    "    ci.wait()\n",
    "    print ci.output"
   ]
  },
  {
   "cell_type": "markdown",
   "metadata": {
    "deletable": true,
    "editable": true
   },
   "source": [
    "#### Now we can mount the filesystem on each instance"
   ]
  },
  {
   "cell_type": "code",
   "execution_count": null,
   "metadata": {
    "collapsed": false,
    "deletable": true,
    "editable": true
   },
   "outputs": [],
   "source": [
    "dnsname = '{}.efs.{}.amazonaws.com'.format(FileSystemId, region)\n",
    "mount_command = 'sudo mount -t nfs -o nfsvers=4.1,rsize=1048576,wsize=1048576,hard,timeo=600,retrans=2 {}:/ ~/efs-mount-point'.format(dnsname)\n",
    "\n",
    "for c in cis:\n",
    "    c.exec_command(mount_command, block=False)\n",
    "for c in cis:\n",
    "    c.wait()\n",
    "    print c.output"
   ]
  },
  {
   "cell_type": "markdown",
   "metadata": {
    "deletable": true,
    "editable": true
   },
   "source": [
    "#### We need to adjust the permissions on the shared filesystem"
   ]
  },
  {
   "cell_type": "code",
   "execution_count": null,
   "metadata": {
    "collapsed": false,
    "deletable": true,
    "editable": true
   },
   "outputs": [],
   "source": [
    "for c in cis:\n",
    "    c.exec_command('sudo chmod go+rw efs-mount-point', block=False)\n",
    "for c in cis:\n",
    "    c.wait()\n",
    "    print c.output"
   ]
  },
  {
   "cell_type": "markdown",
   "metadata": {
    "deletable": true,
    "editable": true
   },
   "source": [
    "#### Now we can try it out. First we copy a Gromacs .tpr file from the examples already on the instance to the shared filesystem. Note we only have to do this on one of our instances!"
   ]
  },
  {
   "cell_type": "code",
   "execution_count": null,
   "metadata": {
    "collapsed": false,
    "deletable": true,
    "editable": true
   },
   "outputs": [],
   "source": [
    "cis[0].exec_command('cp tios/test/examples/bpti.tpr ~/efs-mount-point')\n",
    "cis[1].exec_command('ls -l ~/efs-mount-point')\n",
    "print cis[1].output"
   ]
  },
  {
   "cell_type": "markdown",
   "metadata": {
    "deletable": true,
    "editable": true
   },
   "source": [
    "#### Now we can run the Gromacs job. A temporary directory is created where most of the stuff happens, but selected output files are written to the shared directory (with unique names)"
   ]
  },
  {
   "cell_type": "code",
   "execution_count": null,
   "metadata": {
    "collapsed": false,
    "deletable": true,
    "editable": true
   },
   "outputs": [],
   "source": [
    "i = 0\n",
    "for c in cis:\n",
    "    run_command = 'export TMPDIR=`mktemp -d`; cd $TMPDIR; source /usr/local/gromacs/2016.4/bin/GMXRC; gmx mdrun -s ~/efs-mount-point/bpti.tpr -g ~/efs-mount-point/gmx_logfile{}.log -nsteps 1000'.format(i)\n",
    "    c.exec_command(run_command, block=False)\n",
    "    i += 1\n",
    "\n",
    "for c in cis:\n",
    "    c.wait()\n",
    "    print c.output"
   ]
  },
  {
   "cell_type": "markdown",
   "metadata": {
    "deletable": true,
    "editable": true
   },
   "source": [
    "#### Check to see what we have now got in the shared filesystem:"
   ]
  },
  {
   "cell_type": "code",
   "execution_count": null,
   "metadata": {
    "collapsed": false,
    "deletable": true,
    "editable": true
   },
   "outputs": [],
   "source": [
    "cis[0].exec_command('ls -l ~/efs-mount-point')\n",
    "print cis[0].output"
   ]
  },
  {
   "cell_type": "markdown",
   "metadata": {
    "deletable": true,
    "editable": true
   },
   "source": [
    "#### Now shut everything down"
   ]
  },
  {
   "cell_type": "code",
   "execution_count": null,
   "metadata": {
    "collapsed": false,
    "deletable": true,
    "editable": true
   },
   "outputs": [],
   "source": [
    "instance_ids = [i.id for i in instances]\n",
    "ec2.terminate_instances(instance_ids=instance_ids)\n",
    "time.sleep(2)\n",
    "for MountTargetId in MountTargetIds:\n",
    "    efs_client.delete_mount_target(MountTargetId=MountTargetId)\n",
    "time.sleep(10)\n",
    "efs_client.delete_file_system(FileSystemId=FileSystemId)"
   ]
  },
  {
   "cell_type": "markdown",
   "metadata": {
    "deletable": true,
    "editable": true
   },
   "source": [
    "#### If youy get an error, you may need to try a second time to get the filesystem deleted, if it was still busy the first time:"
   ]
  },
  {
   "cell_type": "code",
   "execution_count": null,
   "metadata": {
    "collapsed": false,
    "deletable": true,
    "editable": true
   },
   "outputs": [],
   "source": [
    "efs_client.delete_file_system(FileSystemId=FileSystemId)"
   ]
  },
  {
   "cell_type": "code",
   "execution_count": null,
   "metadata": {
    "collapsed": true,
    "deletable": true,
    "editable": true
   },
   "outputs": [],
   "source": []
  }
 ],
 "metadata": {
  "kernelspec": {
   "display_name": "Python 2",
   "language": "python",
   "name": "python2"
  },
  "language_info": {
   "codemirror_mode": {
    "name": "ipython",
    "version": 2
   },
   "file_extension": ".py",
   "mimetype": "text/x-python",
   "name": "python",
   "nbconvert_exporter": "python",
   "pygments_lexer": "ipython2",
   "version": "2.7.14"
  }
 },
 "nbformat": 4,
 "nbformat_minor": 2
}
