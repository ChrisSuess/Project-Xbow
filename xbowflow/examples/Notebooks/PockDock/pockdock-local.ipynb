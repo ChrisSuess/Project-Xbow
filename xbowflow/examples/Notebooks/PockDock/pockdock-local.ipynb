{
 "cells": [
  {
   "cell_type": "markdown",
   "metadata": {},
   "source": [
    "# PockDock\n",
    "\n",
    "This notebook demonstrates how a variety of different tools can be glued together into an efficient and flexible workflow using **Xflow**.\n",
    "\n",
    "The workflow downloads a protein-ligand complex form the PDB, runs **fpocket** to find druggable pockets in the protein (ignoring the currently docked ligand), then re-docks the ligand back into the biggest pocket found, using **AutoDock Vina**. Then it calculates the error between the crystal structure coordinates of the ligand and those of each docking pose, before and after least-squares fitting, using **mdtraj**.\n",
    "\n",
    "### Prerequisites:\n",
    "\n",
    " - [Docker](docker.com)\n",
    " - [mdtraj](mdtraj.org)==1.9.1\n",
    " - [AutoDock Vina](vina.scripps.edu) and [AutoDock Tools](autodock.scripps.edu)\n",
    " - [fpocket](http://fpocket.sourceforge.net)\n",
    " \n",
    "**Note 1**: The Python package MDTraj can be temperamental to install. We find the following usually works:\n",
    "```\n",
    "pip install numpy cython\n",
    "pip install mdtraj==1.9.1\n",
    "```\n",
    "\n",
    "**Note 2**: Containerized versions of **fpocket** and **AutoDock Vina/AutoDock Tools** can be installed using **pinda**:\n",
    "```\n",
    "pip install pinda\n",
    "pinda install vina 1.1.2\n",
    "pinda install fpocket 3.0\n",
    "```"
   ]
  },
  {
   "cell_type": "code",
   "execution_count": null,
   "metadata": {},
   "outputs": [],
   "source": [
    "from xbowflow import xflowlib\n",
    "from xbowflow.clients import XflowClient\n",
    "import sys\n",
    "if sys.version_info[0] < 3: # Python 2.x:\n",
    "    from urllib import urlretrieve\n",
    "else: # Python 3:\n",
    "    from urllib.request import urlretrieve\n",
    "import numpy as np\n",
    "import mdtraj as mdt"
   ]
  },
  {
   "cell_type": "markdown",
   "metadata": {},
   "source": [
    "Create an Xflow client, connected to the **Xbow** cluster (running locally, in this case)"
   ]
  },
  {
   "cell_type": "code",
   "execution_count": null,
   "metadata": {},
   "outputs": [],
   "source": [
    "client = XflowClient(local=True)"
   ]
  },
  {
   "cell_type": "markdown",
   "metadata": {},
   "source": [
    "Make the kernels for **fpocket** and **Vina**, and functions to convert between file formats."
   ]
  },
  {
   "cell_type": "code",
   "execution_count": null,
   "metadata": {},
   "outputs": [],
   "source": [
    "# The fpocket kernel:\n",
    "fpocket = xflowlib.SubprocessKernel('fpocket -f x.pdb')\n",
    "fpocket.set_inputs(['x.pdb'])\n",
    "fpocket.set_outputs(['x_out/x_out.pdb'])"
   ]
  },
  {
   "cell_type": "code",
   "execution_count": null,
   "metadata": {},
   "outputs": [],
   "source": [
    "# The vina kernel:\n",
    "vina = xflowlib.SubprocessKernel('vina --receptor r.pdbqt --ligand l.pdbqt --out out.pdbqt --log dock.log'\n",
    "                                 ' --center_x {xc} --center_y {yc} --center_z {zc}'\n",
    "                                 ' --size_x {sx} --size_y {sy} --size_z {sz}')\n",
    "vina.set_inputs(['r.pdbqt', 'l.pdbqt', 'xc', 'yc', 'zc', 'sx', 'sy', 'sz'])\n",
    "vina.set_outputs(['out.pdbqt', 'dock.log'])"
   ]
  },
  {
   "cell_type": "code",
   "execution_count": null,
   "metadata": {},
   "outputs": [],
   "source": [
    "# AutoDock Tool based kernels to prepare receptor and ligand for docking:\n",
    "prep_receptor = xflowlib.SubprocessKernel('adt prepare_receptor4.py -r x.pdb -o x.pdbqt')\n",
    "prep_receptor.set_inputs(['x.pdb'])\n",
    "prep_receptor.set_outputs(['x.pdbqt'])\n",
    "\n",
    "prep_ligand = xflowlib.SubprocessKernel('adt prepare_ligand4.py -l x.pdb -o x.pdbqt')\n",
    "prep_ligand.set_inputs(['x.pdb'])\n",
    "prep_ligand.set_outputs(['x.pdbqt'])"
   ]
  },
  {
   "cell_type": "code",
   "execution_count": null,
   "metadata": {},
   "outputs": [],
   "source": [
    "# A FunctionKernel to convert pdbqt files back to pdb ones, because the OpenBabel\n",
    "#  command to do this seems to be broken...\n",
    "def pdbqt2pdb(infile):\n",
    "    outfile = 'tmp.pdb'\n",
    "    fout = open(outfile, 'w')\n",
    "    with open(infile, 'r') as fin:\n",
    "        for line in fin:\n",
    "            if line[1:6] in 'ATOM  MODEL ENDMDL':\n",
    "                fout.write(line)       \n",
    "    fout.close()\n",
    "    return 'tmp.pdb'\n",
    "\n",
    "pdbqt_to_pdb = xflowlib.FunctionKernel(pdbqt2pdb)\n",
    "pdbqt_to_pdb.set_inputs(['infile'])\n",
    "pdbqt_to_pdb.set_outputs(['outfile'])"
   ]
  },
  {
   "cell_type": "markdown",
   "metadata": {},
   "source": [
    "Now we construct the workflow. For convenience it's split up here into sections."
   ]
  },
  {
   "cell_type": "code",
   "execution_count": null,
   "metadata": {},
   "outputs": [],
   "source": [
    "# Download the pdb file, and split into receptor and ligand:\n",
    "pdb_file = '1qy1.pdb'\n",
    "ligand_residue_name = 'PRZ'\n",
    "path = urlretrieve('http://files.rcsb.org/download/' + pdb_file, pdb_file)\n",
    "hydrated_complex = mdt.load(pdb_file)\n",
    "receptor_atoms = hydrated_complex.topology.select('protein')\n",
    "ligand_atoms = hydrated_complex.topology.select('resname {}'.format(ligand_residue_name))\n",
    "receptor = mdt.load(pdb_file, atom_indices=receptor_atoms)\n",
    "ligand = mdt.load(pdb_file, atom_indices=ligand_atoms)"
   ]
  },
  {
   "cell_type": "code",
   "execution_count": null,
   "metadata": {},
   "outputs": [],
   "source": [
    "# Run fpocket:\n",
    "pockets = client.submit(fpocket, receptor)"
   ]
  },
  {
   "cell_type": "code",
   "execution_count": null,
   "metadata": {},
   "outputs": [],
   "source": [
    "# Find the centre and extents of the largest pocket:\n",
    "buffer = 2.0\n",
    "t = mdt.load(pockets.result().as_file())\n",
    "site = t.topology.select('resname STP and residue 1') # This should be the largest pocket\n",
    "# In the next two lines, the factor of 10 is a conversion from nanometres to Angstroms:\n",
    "xc, yc, zc = tuple(10 * (t.xyz[0][site].min(axis=0) + t.xyz[0][site].max(axis=0)) / 2)\n",
    "sx, sy, sz = tuple(10 * (t.xyz[0][site].max(axis=0) - t.xyz[0][site].min(axis=0)) + buffer)\n",
    "print(xc, yc, zc)\n",
    "print(sx, sy, sz)"
   ]
  },
  {
   "cell_type": "code",
   "execution_count": null,
   "metadata": {},
   "outputs": [],
   "source": [
    "# Prepare receptor and ligand for docking:\n",
    "receptor_qt = client.submit(prep_receptor, receptor)\n",
    "ligand_qt = client.submit(prep_ligand, ligand)"
   ]
  },
  {
   "cell_type": "code",
   "execution_count": null,
   "metadata": {},
   "outputs": [],
   "source": [
    "# Run vina:\n",
    "docks, logfile = client.submit(vina, receptor_qt, ligand_qt, xc, yc, zc, sx, sy, sz)"
   ]
  },
  {
   "cell_type": "code",
   "execution_count": null,
   "metadata": {},
   "outputs": [],
   "source": [
    "# Check the log file:\n",
    "with open(logfile.result().as_file()) as f:\n",
    "    lines = f.read()\n",
    "print(lines)"
   ]
  },
  {
   "cell_type": "code",
   "execution_count": null,
   "metadata": {},
   "outputs": [],
   "source": [
    "# Convert the docked poses back to PDB format, and calculate unfitted and fitted rmsds using MDTraj:\n",
    "pdbout = client.submit(pdbqt_to_pdb, docks)\n",
    "docktraj = mdt.load(pdbout.result().as_file())\n",
    "dxyz = docktraj.xyz - ligand.xyz\n",
    "dxyz = (dxyz * dxyz).sum(axis=2).mean(axis=1)\n",
    "rmsd = mdt.rmsd(docktraj, ligand) * 10.0\n",
    "err = np.sqrt(dxyz) * 10.0\n",
    "print('Mode Fitted   Unfitted')\n",
    "print('      rmsd      rmsd')\n",
    "for mode in range(9):\n",
    "    print('{:3d}   {:5.3f}    {:6.3f}'.format(mode+1, rmsd[mode], err[mode]))"
   ]
  },
  {
   "cell_type": "code",
   "execution_count": null,
   "metadata": {},
   "outputs": [],
   "source": []
  }
 ],
 "metadata": {
  "kernelspec": {
   "display_name": "Python 3",
   "language": "python",
   "name": "python3"
  },
  "language_info": {
   "codemirror_mode": {
    "name": "ipython",
    "version": 3
   },
   "file_extension": ".py",
   "mimetype": "text/x-python",
   "name": "python",
   "nbconvert_exporter": "python",
   "pygments_lexer": "ipython3",
   "version": "3.5.5"
  }
 },
 "nbformat": 4,
 "nbformat_minor": 2
}
