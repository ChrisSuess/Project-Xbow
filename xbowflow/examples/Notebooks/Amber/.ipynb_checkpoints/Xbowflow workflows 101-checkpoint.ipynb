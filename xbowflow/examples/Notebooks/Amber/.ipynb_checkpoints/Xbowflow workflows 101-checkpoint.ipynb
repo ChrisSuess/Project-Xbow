{
 "cells": [
  {
   "cell_type": "markdown",
   "metadata": {},
   "source": [
    "## An introduction to xbowflow workflows\n",
    "\n",
    "In this notebook you will see how a simple MD simulation job can be converted from its normal command-line form into a Python function using tools in *Xbowflow*.\n",
    "\n",
    "Then you will see how it's easy to chain jobs together to create a workflow.\n",
    "\n",
    "The notebook assumes you have a basic knowledge of *Amber*, and that *Amber* (or *Ambertools*) is installed on the computer you are running this notebook on.\n",
    "\n",
    "Some knowledge of the Python package *MDTraj* may also help, but is not obligatory.\n",
    "\n",
    "----\n",
    "\n",
    "### Part 1: running jobs the conventional way\n",
    "Have a look at the contents of this directory:"
   ]
  },
  {
   "cell_type": "code",
   "execution_count": null,
   "metadata": {},
   "outputs": [],
   "source": [
    "!ls"
   ]
  },
  {
   "cell_type": "markdown",
   "metadata": {},
   "source": [
    "You should see:\n",
    "\n",
    "    Xbowflow workflows 101.ipynb : This notebook\n",
    "    dhfr.crd                     : Coordinates for DHFR in Amber .crd format\n",
    "    dhfr.prmtop                  : Amber topology file for DHFR\n",
    "    step1.mdin                   : An input file for sander/pmemd defining a restrained energy minimisation job\n",
    "    step2.mdin                   : An input file for sander/pmemd defining an unrestrained energy minimisation job\n",
    "    step1.mdin                   : An input file for sander/pmemd defining a short MD job\n",
    "    \n",
    "Let's begin by running the energy minimisation job interactively in the conventional way. "
   ]
  },
  {
   "cell_type": "code",
   "execution_count": null,
   "metadata": {},
   "outputs": [],
   "source": [
    "!sander -O -i step1.mdin -c dhfr.crd -ref dhfr.crd -p dhfr.prmtop -o step1.mdout -r dhfr.step1.rst7"
   ]
  },
  {
   "cell_type": "markdown",
   "metadata": {},
   "source": [
    "Assuming the job completed without errors, you should see the output files in the current directory:"
   ]
  },
  {
   "cell_type": "code",
   "execution_count": null,
   "metadata": {},
   "outputs": [],
   "source": [
    "!ls"
   ]
  },
  {
   "cell_type": "markdown",
   "metadata": {},
   "source": [
    "Have a look at the log file:"
   ]
  },
  {
   "cell_type": "code",
   "execution_count": null,
   "metadata": {},
   "outputs": [],
   "source": [
    "!cat step1.mdout"
   ]
  },
  {
   "cell_type": "markdown",
   "metadata": {},
   "source": [
    "### Part 2: Turning this into Python\n",
    "\n",
    "OK. Now you will see how you can turn the energy minimisation job from something you run on the command line (in this situation, within a Jupyter notebook, by using the \"!\" special command) into a pure Python function.\n",
    "\n",
    "The function will take a .crd file, a .prmtop file and a .mdin file as the input, and return the .mdout and .rst files when the job completes.\n",
    "\n",
    "So your aim is something like this:\n",
    "\n",
    "    restart, logfile = md(mdin, startcrds, prmtop)\n",
    "    \n",
    "---\n",
    "\n",
    "Begin by importing the *xflowlib* module:"
   ]
  },
  {
   "cell_type": "code",
   "execution_count": null,
   "metadata": {},
   "outputs": [],
   "source": [
    "from xbowflow import xflowlib"
   ]
  },
  {
   "cell_type": "markdown",
   "metadata": {},
   "source": [
    "Now you create the function, which in xflowlib is called a **Kernel**:"
   ]
  },
  {
   "cell_type": "code",
   "execution_count": null,
   "metadata": {},
   "outputs": [],
   "source": [
    "md = xflowlib.SubprocessKernel('sander -O -i {x.mdin} -c {x.rst7} -ref {x.rst7} -p {x.prmtop} -o {x.mdout} -r {out.rst7}')"
   ]
  },
  {
   "cell_type": "markdown",
   "metadata": {},
   "source": [
    "You can see that creating the function (or \"kernel\") involves providing a \"template\" for the command you want to run. Variables in the template (e.g.files) are enclosed in braces (\"{}\"), but their names are completely up to you (e.g. you could use \"system.crd\", etc. instead of \"x.rst7\") - but in general make sure the filenames have the appropriate extensions.\n",
    "\n",
    "---\n",
    "\n",
    "Now you have to tell the kernel what files are inputs, and what are outputs. To do this you pass *lists* of strings that correspond to the filenames in the template above. \n",
    "\n",
    "**NB:** the order of the strings in the inputs list defines the order that input variables will be passed to the kernel, and the order of the strings in the output list defines the order that the outputs from the function will appear in:"
   ]
  },
  {
   "cell_type": "code",
   "execution_count": null,
   "metadata": {},
   "outputs": [],
   "source": [
    "# Give the kernel the signature: restart, logfile = md.run(mdin, startcrds, prmtop)\n",
    "md.set_inputs(['x.mdin', 'x.rst7', 'x.prmtop'])\n",
    "md.set_outputs(['out.rst7', 'x.mdout'])"
   ]
  },
  {
   "cell_type": "markdown",
   "metadata": {},
   "source": [
    "And that's about it - your new function is ready for use.\n",
    "\n",
    "However, your data is not quite ready. Xbowflow is designed to distribute work across multiple workers that do not neccessarily share a file system. So before you can use the function, you need to get the input files into suitable globally-accessible variables:"
   ]
  },
  {
   "cell_type": "code",
   "execution_count": null,
   "metadata": {},
   "outputs": [],
   "source": [
    "startcrds = xflowlib.load('dhfr.crd')\n",
    "prmtop = xflowlib.load('dhfr.prmtop')\n",
    "em_protocol_1 = xflowlib.load('step1.mdin')"
   ]
  },
  {
   "cell_type": "markdown",
   "metadata": {},
   "source": [
    "Now you can run the function, by caling its run() method:"
   ]
  },
  {
   "cell_type": "code",
   "execution_count": null,
   "metadata": {},
   "outputs": [],
   "source": [
    "restart, logfile = md.run(em_protocol_1, startcrds, prmtop)"
   ]
  },
  {
   "cell_type": "markdown",
   "metadata": {},
   "source": [
    "At the moment your results are only stored in the variables 'restart' and 'logfile'. If you want to turn them into files, that's easy:"
   ]
  },
  {
   "cell_type": "code",
   "execution_count": null,
   "metadata": {},
   "outputs": [],
   "source": [
    "logfile.save('test.mdout')\n",
    "restart.save('test.rst7')"
   ]
  },
  {
   "cell_type": "markdown",
   "metadata": {},
   "source": [
    "Check they are there:"
   ]
  },
  {
   "cell_type": "code",
   "execution_count": null,
   "metadata": {},
   "outputs": [],
   "source": [
    "!cat test.mdout"
   ]
  },
  {
   "cell_type": "markdown",
   "metadata": {},
   "source": [
    "### Part 3: A workflow\n",
    "\n",
    "Let's make a workflow that runs both energy minimisations and then the MD stage all in one go."
   ]
  },
  {
   "cell_type": "code",
   "execution_count": null,
   "metadata": {},
   "outputs": [],
   "source": [
    "# Create variables from the required input files:\n",
    "em_protocol_2 = xflowlib.load('step2.mdin')\n",
    "md_protocol = xflowlib.load('step3.mdin')"
   ]
  },
  {
   "cell_type": "code",
   "execution_count": null,
   "metadata": {},
   "outputs": [],
   "source": [
    "# Run the jobs. For clarity, we begin at the beginning again:\n",
    "restart1, logfile1 = md.run(em_protocol_1, startcrds, prmtop)\n",
    "print('first stage done...')\n",
    "restart2, logfile2 = md.run(em_protocol_2, restart1, prmtop)\n",
    "print('second stage done...')\n",
    "restart3, logfile3 = md.run(md_protocol, restart2, prmtop)\n",
    "print('third stage done.')\n",
    "logfile3.save('stage3.mdout')"
   ]
  },
  {
   "cell_type": "code",
   "execution_count": null,
   "metadata": {},
   "outputs": [],
   "source": [
    "!cat stage3.mdout"
   ]
  },
  {
   "cell_type": "markdown",
   "metadata": {},
   "source": [
    "Assuming all went OK, a couple things to note:\n",
    "    1. You were able to re-use the same kernel for all three simulation stages.\n",
    "    2. Because you did this, you haven't captured the trajectory file that the third stage will have produced.\n",
    "    3. All three kernels use the same prmtop file as an argument - in effect it's a constant.\n",
    "    \n",
    "Let's fix issue 2 first.\n",
    "\n",
    "Make a new kernel that also returns a trajectory file:"
   ]
  },
  {
   "cell_type": "code",
   "execution_count": null,
   "metadata": {},
   "outputs": [],
   "source": [
    "md_with_traj = xflowlib.SubprocessKernel('sander -O -i {x.mdin} -c {x.rst7} -p {x.prmtop} -o {x.mdout} -r {out.rst7} -x {x.nc}')\n",
    "md_with_traj.set_inputs(['x.mdin', 'x.rst7', 'x.prmtop'])\n",
    "md_with_traj.set_outputs(['x.nc', 'out.rst7', 'x.mdout'])"
   ]
  },
  {
   "cell_type": "markdown",
   "metadata": {},
   "source": [
    "Now let's make the prmtop file a constant in both kernels. This means it does not have to appear in the kernel argument list any more (but has the disadvantage that these kernels are now 'hard wired' to only work for DHFR):"
   ]
  },
  {
   "cell_type": "code",
   "execution_count": null,
   "metadata": {},
   "outputs": [],
   "source": [
    "md.set_constant('x.prmtop', prmtop)\n",
    "md_with_traj.set_constant('x.prmtop', prmtop)"
   ]
  },
  {
   "cell_type": "markdown",
   "metadata": {},
   "source": [
    "### Part 4: Exercise - a better workflow\n",
    "\n",
    "Your turn - rewrite the workflow to use these improved kernels"
   ]
  },
  {
   "cell_type": "code",
   "execution_count": null,
   "metadata": {},
   "outputs": [],
   "source": [
    "# A workflow that runs a two-stage energy minimisation and then an MD simulation\n",
    "# For clarity, start at the beginning:\n",
    "restart1, logfile1 = md.run(em_protocol_1, startcrds)\n",
    "print('first stage done...')\n",
    "# Add your code below:\n",
    "restart2, logfile2 = md.run(em_protocol_2, restart1)\n",
    "print('second stage done...')\n",
    "trajectory, restart3, logfile3 = md_with_traj.run(md_protocol, restart2)\n",
    "print('final stage done.')"
   ]
  },
  {
   "cell_type": "markdown",
   "metadata": {},
   "source": [
    "### Part 5: interfacing with more Python\n",
    "\n",
    "At this stage you may be thinking \"OK - but nothing here I couldn't do with a bash script\". The power of the workflow comes when you interface your new pythonized-MD functions with other Python tools.\n",
    "\n",
    "Let's make use of the *MDTraj* package for analysis of MD trajectory data. You will use it to calculate the RMSD of the trajectory frames from the starting structure.\n",
    "\n",
    "If you are not yet familiar with MDTraj don't worry - what's below should be more or less self-explanatory.\n",
    "\n",
    "The MDTraj load() method expects *filenames* as arguments - not the data those files contain. For this, you can use the as_file() method of a variable created by xbowflow.load():"
   ]
  },
  {
   "cell_type": "code",
   "execution_count": null,
   "metadata": {},
   "outputs": [],
   "source": [
    "import mdtraj as mdt\n",
    "traj = mdt.load(trajectory.as_file(), top=prmtop.as_file())\n",
    "print(traj)\n",
    "# Print the rmsd of each frame from the first:\n",
    "print(mdt.rmsd(traj, traj[0], atom_indices=traj.topology.select('protein')))"
   ]
  },
  {
   "cell_type": "markdown",
   "metadata": {},
   "source": [
    "Let's make your workflow identify which snapshot from your trajectory has the highest RMSD from the starting structure, and then energy minimise that:"
   ]
  },
  {
   "cell_type": "code",
   "execution_count": null,
   "metadata": {},
   "outputs": [],
   "source": [
    "import numpy as np\n",
    "rmsdlist = mdt.rmsd(traj, traj[0], atom_indices=traj.topology.select('protein'))\n",
    "i = np.argmax(rmsdlist)\n",
    "print('Energy minimising snapshot {}'.format(i))\n",
    "max_rmsd_minimised, logfile = md.run(em_protocol_2, traj[i])\n",
    "max_rmsd_minimised.save('max_rmsd.rst7')"
   ]
  },
  {
   "cell_type": "markdown",
   "metadata": {},
   "source": [
    "### Part 6: Final exercise\n",
    "\n",
    "Create a Python function that in effect does all the above: takes a set of starting coordinates, a topology file, and three md input files (two for energy minimisations, one for an MD run), runs the workflow and then returns the energy-minimised structure of the snapshot with the highest RMSD from the starting structure. The function should do everything, including creating the required kernels:"
   ]
  },
  {
   "cell_type": "code",
   "execution_count": null,
   "metadata": {},
   "outputs": [],
   "source": [
    "def my_workflow(crd_filename, top_filename, em_step1_filename, em_step2_filename, md_step_filename):\n",
    "    # Over to you!\n",
    "    # Load data:\n",
    "    startcrds = xflowlib.load(crd_filename)\n",
    "    topfile = xflowlib.load(top_filename)\n",
    "    protocol_step_1 = xflowlib.load(em_step1_filename)\n",
    "    protocol_step_2 = xflowlib.load(em_step2_filename)\n",
    "    protocol_step_3 = xflowlib.load(md_step_filename)\n",
    "    \n",
    "    # Create kernels:\n",
    "    \n",
    "    md = xflowlib.SubprocessKernel('sander -O -i {x.mdin} -c {x.rst7} -ref {x.rst7} -p {x.prmtop} -o {x.mdout} -r {out.rst7}')\n",
    "    md.set_inputs(['x.mdin', 'x.rst7'])\n",
    "    md.set_outputs(['out.rst7'])\n",
    "    md.set_constant('x.prmtop', topfile)\n",
    "    \n",
    "    md_with_traj = xflowlib.SubprocessKernel('sander -O -i {x.mdin} -c {x.rst7} -p {x.prmtop} -o {x.mdout} -r {out.rst7} -x {x.nc}')\n",
    "    md_with_traj.set_inputs(['x.mdin', 'x.rst7'])\n",
    "    md_with_traj.set_outputs(['x.nc'])\n",
    "    md_with_traj.set_constant('x.prmtop', topfile)\n",
    "    \n",
    "    # Run workflow:\n",
    "    restart1 = md.run(protocol_step_1, startcrds)\n",
    "    print('first stage done...')\n",
    "    restart2 = md.run(protocol_step_2, restart1)\n",
    "    print('second stage done...')\n",
    "    trajectory = md_with_traj.run(protocol_step_3, restart2)\n",
    "    print('final stage done.')\n",
    "    traj = mdt.load(trajectory.as_file(), top=prmtop.as_file())\n",
    "    rmsdlist = mdt.rmsd(traj, traj[0], atom_indices=traj.topology.select('protein'))\n",
    "    i = np.argmax(rmsdlist)\n",
    "    print('Energy minimising snapshot {}'.format(i))\n",
    "    final_crds = md.run(protocol_step_2, traj[i])\n",
    "    \n",
    "    # Return final structure:\n",
    "    return final_crds\n",
    "\n",
    "# Test the workflow:\n",
    "final_crds = my_workflow('dhfr.crd', 'dhfr.prmtop', 'step1.mdin', 'step2.mdin', 'step3.mdin')\n",
    "final_crds.save('final_coordinates.rst7')"
   ]
  },
  {
   "cell_type": "code",
   "execution_count": null,
   "metadata": {},
   "outputs": [],
   "source": []
  }
 ],
 "metadata": {
  "kernelspec": {
   "display_name": "Python 3",
   "language": "python",
   "name": "python3"
  },
  "language_info": {
   "codemirror_mode": {
    "name": "ipython",
    "version": 3
   },
   "file_extension": ".py",
   "mimetype": "text/x-python",
   "name": "python",
   "nbconvert_exporter": "python",
   "pygments_lexer": "ipython3",
   "version": "3.6.5"
  }
 },
 "nbformat": 4,
 "nbformat_minor": 2
}
