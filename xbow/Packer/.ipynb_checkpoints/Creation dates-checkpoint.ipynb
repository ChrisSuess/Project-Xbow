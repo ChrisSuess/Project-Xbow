{
 "cells": [
  {
   "cell_type": "code",
   "execution_count": 1,
   "metadata": {},
   "outputs": [],
   "source": [
    "import boto3"
   ]
  },
  {
   "cell_type": "code",
   "execution_count": 13,
   "metadata": {},
   "outputs": [],
   "source": [
    "client = boto3.client('iam')"
   ]
  },
  {
   "cell_type": "code",
   "execution_count": 28,
   "metadata": {},
   "outputs": [],
   "source": [
    "result = client.list_instance_profiles()"
   ]
  },
  {
   "cell_type": "code",
   "execution_count": 29,
   "metadata": {},
   "outputs": [
    {
     "name": "stdout",
     "output_type": "stream",
     "text": [
      "AutomationServiceRole\n",
      "---\n",
      "EC2InstanceRole\n",
      "---\n",
      "ecsInstanceRole\n",
      "---\n"
     ]
    }
   ],
   "source": [
    "for r in result['InstanceProfiles']:\n",
    "    print(r['InstanceProfileName'])\n",
    "    print('---')"
   ]
  },
  {
   "cell_type": "code",
   "execution_count": 32,
   "metadata": {},
   "outputs": [],
   "source": [
    "region='eu-west-1'\n",
    "source = '099720109477/ubuntu/images/hvm-ssd/ubuntu-bionic-18.04-amd64-server-*'\n",
    "client = boto3.client('ec2', region_name=region)\n",
    "filters=[{'Name': 'manifest-location',\n",
    "              'Values': [source]}]\n",
    "result = client.describe_images(ExecutableUsers=['all'], Filters=filters)\n",
    "\n",
    "amis = [i['ImageId'] for i in result['Images']]"
   ]
  },
  {
   "cell_type": "code",
   "execution_count": 34,
   "metadata": {},
   "outputs": [
    {
     "name": "stdout",
     "output_type": "stream",
     "text": [
      "['ami-00035f41c82244dab', 'ami-001b0e20a92d8db1e', 'ami-01e6a0b85de033c99', 'ami-0204cddbf060b2420', 'ami-02790d1ebf3b5181d', 'ami-0286372f78291e588', 'ami-06358f49b5839867c', 'ami-0727f3c2d4b0226d5', 'ami-08596fdd2d5b64915', 'ami-08b1cea5487c762b3', 'ami-08d658f84a6d84a80', 'ami-0ae0cb89fc578cd9c', 'ami-0aebeb281fdee5054', 'ami-0b2a4d260c54e8d3d', 'ami-0b91bd72', 'ami-0bd5ae06b6779872a', 'ami-0c21eb76a5574aa2f', 'ami-0cd7136ac36e65ccc', 'ami-0d137679f8243e9f8', 'ami-0e312952b4cc28a7f', 'ami-0ee06eb8d6eebcde0', 'ami-46dee13f', 'ami-477b773e', 'ami-79c4de93', 'ami-d2414e38']\n"
     ]
    }
   ],
   "source": [
    "print(amis)"
   ]
  },
  {
   "cell_type": "code",
   "execution_count": 53,
   "metadata": {},
   "outputs": [
    {
     "name": "stdout",
     "output_type": "stream",
     "text": [
      "2018-09-12 21:04:55\n"
     ]
    }
   ],
   "source": [
    "from datetime import datetime\n",
    "print(datetime.strptime(result['Images'][0]['CreationDate'][:-1], '%Y-%m-%dT%H:%M:%S.%f'))"
   ]
  },
  {
   "cell_type": "code",
   "execution_count": 38,
   "metadata": {},
   "outputs": [],
   "source": [
    "import datetime"
   ]
  },
  {
   "cell_type": "code",
   "execution_count": 47,
   "metadata": {},
   "outputs": [
    {
     "name": "stdout",
     "output_type": "stream",
     "text": [
      "2018-09-12T21:04:55.000Z\n"
     ]
    }
   ],
   "source": [
    "print(result['Images'][0]['CreationDate'])"
   ]
  },
  {
   "cell_type": "code",
   "execution_count": 59,
   "metadata": {},
   "outputs": [],
   "source": [
    "creation_dates = [datetime.strptime(i['CreationDate'][:-1], '%Y-%m-%dT%H:%M:%S.%f') for i in result['Images'] ]"
   ]
  },
  {
   "cell_type": "code",
   "execution_count": 60,
   "metadata": {},
   "outputs": [],
   "source": [
    "creation_dates.sort(reverse=True)"
   ]
  },
  {
   "cell_type": "code",
   "execution_count": 62,
   "metadata": {},
   "outputs": [
    {
     "name": "stdout",
     "output_type": "stream",
     "text": [
      "2019-07-25 19:49:32\n"
     ]
    }
   ],
   "source": [
    "print(creation_dates[0])"
   ]
  },
  {
   "cell_type": "code",
   "execution_count": 64,
   "metadata": {},
   "outputs": [],
   "source": [
    "images = result['Images']\n",
    "for image in images:\n",
    "    image['CreationDate'] = datetime.strptime(image['CreationDate'][:-1], '%Y-%m-%dT%H:%M:%S.%f')"
   ]
  },
  {
   "cell_type": "code",
   "execution_count": 65,
   "metadata": {},
   "outputs": [
    {
     "name": "stdout",
     "output_type": "stream",
     "text": [
      "{'CreationDate': datetime.datetime(2018, 9, 12, 21, 4, 55), 'SriovNetSupport': 'simple', 'EnaSupport': True, 'Public': True, 'VirtualizationType': 'hvm', 'Name': 'ubuntu/images/hvm-ssd/ubuntu-bionic-18.04-amd64-server-20180912', 'RootDeviceType': 'ebs', 'BlockDeviceMappings': [{'Ebs': {'SnapshotId': 'snap-0942fab4bf3dd6e87', 'Encrypted': False, 'VolumeSize': 8, 'DeleteOnTermination': True, 'VolumeType': 'gp2'}, 'DeviceName': '/dev/sda1'}, {'VirtualName': 'ephemeral0', 'DeviceName': '/dev/sdb'}, {'VirtualName': 'ephemeral1', 'DeviceName': '/dev/sdc'}], 'RootDeviceName': '/dev/sda1', 'OwnerId': '099720109477', 'ImageId': 'ami-00035f41c82244dab', 'Architecture': 'x86_64', 'State': 'available', 'ImageType': 'machine', 'ImageLocation': '099720109477/ubuntu/images/hvm-ssd/ubuntu-bionic-18.04-amd64-server-20180912', 'Description': 'Canonical, Ubuntu, 18.04 LTS, amd64 bionic image build on 2018-09-12', 'Hypervisor': 'xen'}\n"
     ]
    }
   ],
   "source": [
    "print(images[0])"
   ]
  },
  {
   "cell_type": "code",
   "execution_count": 68,
   "metadata": {},
   "outputs": [],
   "source": [
    "ims = sorted(images, reverse=True, key=lambda img: img['CreationDate'])"
   ]
  },
  {
   "cell_type": "code",
   "execution_count": 69,
   "metadata": {},
   "outputs": [
    {
     "name": "stdout",
     "output_type": "stream",
     "text": [
      "{'CreationDate': datetime.datetime(2019, 7, 25, 19, 49, 32), 'SriovNetSupport': 'simple', 'EnaSupport': True, 'Public': True, 'VirtualizationType': 'hvm', 'Name': 'ubuntu/images/hvm-ssd/ubuntu-bionic-18.04-amd64-server-20190722.1', 'RootDeviceType': 'ebs', 'BlockDeviceMappings': [{'Ebs': {'SnapshotId': 'snap-073fab32a8710b646', 'Encrypted': False, 'VolumeSize': 8, 'DeleteOnTermination': True, 'VolumeType': 'gp2'}, 'DeviceName': '/dev/sda1'}, {'VirtualName': 'ephemeral0', 'DeviceName': '/dev/sdb'}, {'VirtualName': 'ephemeral1', 'DeviceName': '/dev/sdc'}], 'RootDeviceName': '/dev/sda1', 'OwnerId': '099720109477', 'ImageId': 'ami-06358f49b5839867c', 'Architecture': 'x86_64', 'State': 'available', 'ImageType': 'machine', 'ImageLocation': '099720109477/ubuntu/images/hvm-ssd/ubuntu-bionic-18.04-amd64-server-20190722.1', 'Description': 'Canonical, Ubuntu, 18.04 LTS, amd64 bionic image build on 2019-07-22', 'Hypervisor': 'xen'}\n"
     ]
    }
   ],
   "source": [
    "print(ims[0])"
   ]
  },
  {
   "cell_type": "code",
   "execution_count": null,
   "metadata": {},
   "outputs": [],
   "source": []
  }
 ],
 "metadata": {
  "kernelspec": {
   "display_name": "Python 3",
   "language": "python",
   "name": "python3"
  },
  "language_info": {
   "codemirror_mode": {
    "name": "ipython",
    "version": 3
   },
   "file_extension": ".py",
   "mimetype": "text/x-python",
   "name": "python",
   "nbconvert_exporter": "python",
   "pygments_lexer": "ipython3",
   "version": "3.5.5"
  }
 },
 "nbformat": 4,
 "nbformat_minor": 2
}
