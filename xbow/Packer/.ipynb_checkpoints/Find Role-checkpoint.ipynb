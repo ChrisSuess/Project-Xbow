{
 "cells": [
  {
   "cell_type": "markdown",
   "metadata": {},
   "source": [
    "Finding out if a Role/Instance Profile called \"EC2InstanceRole\" exists, so that if so, an instance can be launched with it."
   ]
  },
  {
   "cell_type": "code",
   "execution_count": 1,
   "metadata": {},
   "outputs": [],
   "source": [
    "import boto3"
   ]
  },
  {
   "cell_type": "code",
   "execution_count": 2,
   "metadata": {},
   "outputs": [],
   "source": [
    "client = boto3.client('iam')\n",
    "result = client.list_instance_profiles(PathPrefix='/')"
   ]
  },
  {
   "cell_type": "code",
   "execution_count": 3,
   "metadata": {},
   "outputs": [
    {
     "name": "stdout",
     "output_type": "stream",
     "text": [
      "{'Path': '/', 'InstanceProfileName': 'EC2InstanceRole', 'InstanceProfileId': 'AIPAJJG2TCTKMKJ42EZO6', 'Arn': 'arn:aws:iam::737935987320:instance-profile/EC2InstanceRole', 'CreateDate': datetime.datetime(2018, 9, 9, 21, 19, 13, tzinfo=tzutc()), 'Roles': [{'Path': '/', 'RoleName': 'EC2InstanceRole', 'RoleId': 'AROAJPHN2RMM65R5NVLH6', 'Arn': 'arn:aws:iam::737935987320:role/EC2InstanceRole', 'CreateDate': datetime.datetime(2018, 9, 9, 21, 19, 12, tzinfo=tzutc()), 'AssumeRolePolicyDocument': {'Version': '2012-10-17', 'Statement': [{'Effect': 'Allow', 'Principal': {'Service': 'ec2.amazonaws.com'}, 'Action': 'sts:AssumeRole'}]}}]}\n"
     ]
    }
   ],
   "source": [
    "for r in result['InstanceProfiles']:\n",
    "    if r['InstanceProfileName'] == 'EC2InstanceRole':\n",
    "        print(r)"
   ]
  },
  {
   "cell_type": "code",
   "execution_count": null,
   "metadata": {},
   "outputs": [],
   "source": []
  }
 ],
 "metadata": {
  "kernelspec": {
   "display_name": "Python 3",
   "language": "python",
   "name": "python3"
  },
  "language_info": {
   "codemirror_mode": {
    "name": "ipython",
    "version": 3
   },
   "file_extension": ".py",
   "mimetype": "text/x-python",
   "name": "python",
   "nbconvert_exporter": "python",
   "pygments_lexer": "ipython3",
   "version": "3.6.7"
  }
 },
 "nbformat": 4,
 "nbformat_minor": 2
}
