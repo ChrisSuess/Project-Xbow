{
 "cells": [
  {
   "cell_type": "markdown",
   "metadata": {},
   "source": [
    "## Project-Xbow: Example notebook\n",
    "In this notebook we see how we can identify the head node of a running xbow-cluster"
   ]
  },
  {
   "cell_type": "code",
   "execution_count": 1,
   "metadata": {},
   "outputs": [],
   "source": [
    "from xbow import instances\n",
    "import boto3\n",
    "ec2_resource = boto3.resource('ec2')"
   ]
  },
  {
   "cell_type": "code",
   "execution_count": 2,
   "metadata": {
    "collapsed": true
   },
   "outputs": [],
   "source": [
    "cluster_name = 'MyDaskCluster'\n",
    "scheduler_name = 'MyDaskScheduler'"
   ]
  },
  {
   "cell_type": "code",
   "execution_count": 3,
   "metadata": {},
   "outputs": [
    {
     "name": "stdout",
     "output_type": "stream",
     "text": [
      "ec2.Instance(id='i-08496587daad12c53')\n"
     ]
    }
   ],
   "source": [
    "insts = list(ec2_resource.instances.filter(Filters=[{'Name': 'key-name', 'Values': [scheduler_name]},\n",
    "                                            {'Name': 'instance-state-name', 'Values': ['running']}]))\n",
    "if len(insts) == 0:\n",
    "    print('Error - cannot find {}'.format(scheduler_name))\n",
    "elif len(insts) > 1:\n",
    "    print('Error - more than one instance found with that name')\n",
    "else:\n",
    "    print insts[0]\n",
    "    ci = instances.ConnectedInstance(insts[0])\n",
    "        "
   ]
  },
  {
   "cell_type": "code",
   "execution_count": 28,
   "metadata": {
    "collapsed": true
   },
   "outputs": [],
   "source": [
    "ci.exec_command('ls')"
   ]
  },
  {
   "cell_type": "code",
   "execution_count": 29,
   "metadata": {},
   "outputs": [
    {
     "name": "stdout",
     "output_type": "stream",
     "text": [
      "1\n",
      "amber16\n",
      "build_gromacs_2016.4.sh\n",
      "build_gromacs.sh\n",
      "cocojob.sh\n",
      "crap.sh\n",
      "dicker\n",
      "install_cuda.sh\n",
      "packages\n",
      "popylar\n",
      "Project-Xbow\n",
      "runme.sh\n",
      "scheduler.log\n",
      "shared\n",
      "TGTC\n",
      "TGTC_GMX\n",
      "tios\n",
      "\n"
     ]
    }
   ],
   "source": [
    "print ci.output"
   ]
  },
  {
   "cell_type": "code",
   "execution_count": 6,
   "metadata": {},
   "outputs": [
    {
     "name": "stdout",
     "output_type": "stream",
     "text": [
      "10wk002ns100its.py\n",
      "check_dask.py\n",
      "csaw_amber.pdb\n",
      "csaw.min1\n",
      "csaw.top\n",
      "dryrun_cocomd_2.log\n",
      "dryrun_cocomd_2.py\n",
      "pipelines.py\n",
      "pipelines.pyc\n",
      "production_md.in\n",
      "README\n",
      "run_cocomd_2.py\n",
      "run_cocomd2.py\n",
      "run_cocomd.py\n",
      "test_dask.py\n",
      "tmd_1.in\n",
      "tmd_2.in\n",
      "\n"
     ]
    }
   ],
   "source": [
    "ci.exec_command('ls shared/CoCo-MD_example')\n",
    "print ci.output"
   ]
  },
  {
   "cell_type": "code",
   "execution_count": 30,
   "metadata": {},
   "outputs": [
    {
     "name": "stdout",
     "output_type": "stream",
     "text": [
      "1\n",
      "10wk002ns100its.py\n",
      "check_dask.py\n",
      "csaw_amber.pdb\n",
      "csaw.min1\n",
      "csaw.top\n",
      "dryrun_cocomd_2.py\n",
      "pipelines.py\n",
      "pipelines.pyc\n",
      "production_md.in\n",
      "README\n",
      "run_cocomd_2.py\n",
      "run_cocomd2.py\n",
      "run_cocomd.py\n",
      "test_dask.py\n",
      "tmd_1.in\n",
      "tmd_2.in\n",
      "\n"
     ]
    }
   ],
   "source": [
    "ci.exec_command('rm -f shared/CoCo-MD_example/csaw_[01]* shared/CoCo-MD_example/*.out shared/CoCo-MD_example/*.log; ls shared/CoCo-MD_example')\n",
    "print ci.output"
   ]
  },
  {
   "cell_type": "code",
   "execution_count": 31,
   "metadata": {},
   "outputs": [
    {
     "name": "stdout",
     "output_type": "stream",
     "text": [
      "#!/bin/bash\n",
      "cd shared/CoCo-MD_example\n",
      "python run_cocomd_2.py > run_cocomd_2.log 2>&1\n",
      "\n"
     ]
    }
   ],
   "source": [
    "ci.exec_command('echo \\#\\!/bin/bash > runme.sh; echo cd shared/CoCo-MD_example >> runme.sh; echo python run_cocomd_2.py \\> run_cocomd_2.log 2\\>\\&1 >> runme.sh; cat runme.sh')\n",
    "print ci.output"
   ]
  },
  {
   "cell_type": "code",
   "execution_count": 32,
   "metadata": {
    "collapsed": true
   },
   "outputs": [],
   "source": [
    "ci.upload('../examples/CoCo-MD_example/run_cocomd_2.py', 'shared/CoCo-MD_example/run_cocomd_2.py')"
   ]
  },
  {
   "cell_type": "code",
   "execution_count": 33,
   "metadata": {},
   "outputs": [
    {
     "name": "stdout",
     "output_type": "stream",
     "text": [
      "warning: commands will be executed using /bin/sh\n",
      "job 10 at Mon Jan 29 17:56:00 2018\n",
      "\n"
     ]
    }
   ],
   "source": [
    "ci.exec_command('batch < runme.sh')\n",
    "print ci.output"
   ]
  },
  {
   "cell_type": "code",
   "execution_count": 34,
   "metadata": {},
   "outputs": [
    {
     "name": "stdout",
     "output_type": "stream",
     "text": [
      "1\n",
      "10wk002ns100its.py\n",
      "check_dask.py\n",
      "csaw_amber.pdb\n",
      "csaw.min1\n",
      "csaw.top\n",
      "dryrun_cocomd_2.py\n",
      "pipelines.py\n",
      "pipelines.pyc\n",
      "production_md.in\n",
      "README\n",
      "run_cocomd_2.log\n",
      "run_cocomd_2.py\n",
      "run_cocomd2.py\n",
      "run_cocomd.py\n",
      "test_dask.py\n",
      "tmd_1.in\n",
      "tmd_2.in\n",
      "\n"
     ]
    }
   ],
   "source": [
    "ci.exec_command('ls shared/CoCo-MD_example')\n",
    "print ci.output"
   ]
  },
  {
   "cell_type": "code",
   "execution_count": 35,
   "metadata": {},
   "outputs": [
    {
     "name": "stdout",
     "output_type": "stream",
     "text": [
      "distributed.utils - ERROR - No module named xbow_workflows.pipelines\n",
      "Traceback (most recent call last):\n",
      "  File \"/usr/local/lib/python2.7/dist-packages/distributed/utils.py\", line 238, in f\n",
      "    result[0] = yield make_coro()\n",
      "  File \"/usr/local/lib/python2.7/dist-packages/tornado/gen.py\", line 1055, in run\n",
      "    value = future.result()\n",
      "  File \"/usr/local/lib/python2.7/dist-packages/tornado/concurrent.py\", line 238, in result\n",
      "    raise_exc_info(self._exc_info)\n",
      "  File \"/usr/local/lib/python2.7/dist-packages/tornado/gen.py\", line 1063, in run\n",
      "    yielded = self.gen.throw(*exc_info)\n",
      "  File \"/usr/local/lib/python2.7/dist-packages/distributed/client.py\", line 1315, in _gather\n",
      "    traceback)\n",
      "  File \"/usr/local/lib/python2.7/dist-packages/distributed/protocol/pickle.py\", line 59, in loads\n",
      "    return pickle.loads(x)\n",
      "ImportError: No module named xbow_workflows.pipelines\n",
      "Traceback (most recent call last):\n",
      "  File \"run_cocomd_2.py\", line 98, in <module>\n",
      "    out = prepipe.run(inits)\n",
      "  File \"/usr/local/lib/python2.7/dist-packages/xbow_workflows-0.0.1-py2.7.egg/xbow_workflows/pipelines.py\", line 426, in run\n",
      "    outputs = self.client.gather(outputs)\n",
      "  File \"/usr/local/lib/python2.7/dist-packages/distributed/client.py\", line 1437, in gather\n",
      "    asynchronous=asynchronous)\n",
      "  File \"/usr/local/lib/python2.7/dist-packages/distributed/client.py\", line 592, in sync\n",
      "    return sync(self.loop, func, *args, **kwargs)\n",
      "  File \"/usr/local/lib/python2.7/dist-packages/distributed/utils.py\", line 254, in sync\n",
      "    six.reraise(*error[0])\n",
      "  File \"/usr/local/lib/python2.7/dist-packages/distributed/utils.py\", line 238, in f\n",
      "    result[0] = yield make_coro()\n",
      "  File \"/usr/local/lib/python2.7/dist-packages/tornado/gen.py\", line 1055, in run\n",
      "    value = future.result()\n",
      "  File \"/usr/local/lib/python2.7/dist-packages/tornado/concurrent.py\", line 238, in result\n",
      "    raise_exc_info(self._exc_info)\n",
      "  File \"/usr/local/lib/python2.7/dist-packages/tornado/gen.py\", line 1063, in run\n",
      "    yielded = self.gen.throw(*exc_info)\n",
      "  File \"/usr/local/lib/python2.7/dist-packages/distributed/client.py\", line 1315, in _gather\n",
      "    traceback)\n",
      "  File \"/usr/local/lib/python2.7/dist-packages/distributed/protocol/pickle.py\", line 59, in loads\n",
      "    return pickle.loads(x)\n",
      "ImportError: No module named xbow_workflows.pipelines\n",
      "\n"
     ]
    }
   ],
   "source": [
    "ci.exec_command('cat shared/CoCo-MD_example/run_cocomd_2.log')\n",
    "print ci.output"
   ]
  },
  {
   "cell_type": "code",
   "execution_count": null,
   "metadata": {
    "collapsed": true
   },
   "outputs": [],
   "source": [
    "schedulers = xbow.instances.get_by_name('MyDaskScheduler')\n",
    "print schedulers"
   ]
  },
  {
   "cell_type": "code",
   "execution_count": null,
   "metadata": {
    "collapsed": true
   },
   "outputs": [],
   "source": [
    "reload(xbow.instances)"
   ]
  },
  {
   "cell_type": "code",
   "execution_count": null,
   "metadata": {
    "collapsed": true
   },
   "outputs": [],
   "source": [
    "workers = xbow.instances.get_by_name('MyDaskWorkers')\n",
    "print workers"
   ]
  },
  {
   "cell_type": "code",
   "execution_count": null,
   "metadata": {
    "collapsed": true
   },
   "outputs": [],
   "source": [
    "print workers[0].private_ip_address\n",
    "ci.exec_command()"
   ]
  },
  {
   "cell_type": "code",
   "execution_count": null,
   "metadata": {
    "collapsed": true
   },
   "outputs": [],
   "source": [
    "print xbow.XBOW_CONFIGDIR"
   ]
  },
  {
   "cell_type": "code",
   "execution_count": 2,
   "metadata": {},
   "outputs": [
    {
     "ename": "ImportError",
     "evalue": "No module named xbow",
     "output_type": "error",
     "traceback": [
      "\u001b[0;31m---------------------------------------------------------------------------\u001b[0m",
      "\u001b[0;31mImportError\u001b[0m                               Traceback (most recent call last)",
      "\u001b[0;32m<ipython-input-2-cfadfe06402a>\u001b[0m in \u001b[0;36m<module>\u001b[0;34m()\u001b[0m\n\u001b[0;32m----> 1\u001b[0;31m \u001b[0;32mimport\u001b[0m \u001b[0mxbow\u001b[0m\u001b[0;34m\u001b[0m\u001b[0m\n\u001b[0m",
      "\u001b[0;31mImportError\u001b[0m: No module named xbow"
     ]
    }
   ],
   "source": [
    "import xbow"
   ]
  },
  {
   "cell_type": "code",
   "execution_count": null,
   "metadata": {
    "collapsed": true
   },
   "outputs": [],
   "source": [
    "out = ci.exec_command('cd Project')"
   ]
  }
 ],
 "metadata": {
  "kernelspec": {
   "display_name": "Python 2",
   "language": "python",
   "name": "python2"
  },
  "language_info": {
   "codemirror_mode": {
    "name": "ipython",
    "version": 2
   },
   "file_extension": ".py",
   "mimetype": "text/x-python",
   "name": "python",
   "nbconvert_exporter": "python",
   "pygments_lexer": "ipython2",
   "version": "2.7.12"
  }
 },
 "nbformat": 4,
 "nbformat_minor": 2
}
