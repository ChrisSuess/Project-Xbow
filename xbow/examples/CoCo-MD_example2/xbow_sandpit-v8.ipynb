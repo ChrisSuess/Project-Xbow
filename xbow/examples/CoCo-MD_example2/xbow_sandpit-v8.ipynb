{
 "cells": [
  {
   "cell_type": "code",
   "execution_count": 1,
   "metadata": {
    "collapsed": true,
    "deletable": true,
    "editable": true
   },
   "outputs": [],
   "source": [
    "import xbow\n",
    "from xbow import instances\n",
    "import boto3\n",
    "ec2_resource = boto3.resource('ec2', region_name='eu-west-1')"
   ]
  },
  {
   "cell_type": "code",
   "execution_count": 2,
   "metadata": {
    "collapsed": false,
    "deletable": true,
    "editable": true
   },
   "outputs": [
    {
     "name": "stdout",
     "output_type": "stream",
     "text": [
      "[ec2.Instance(id='i-00a027622c0f6e2cb')]\n",
      "MyDaskScheduler 2018-02-11 17:23:04+00:00\n"
     ]
    }
   ],
   "source": [
    "insts = ec2_resource.instances.filter(Filters=[{'Name': 'key-name', 'Values': ['MyDaskScheduler']}])\n",
    "print list(insts)\n",
    "for instance in insts:\n",
    "    print instance.key_name, instance.launch_time"
   ]
  },
  {
   "cell_type": "code",
   "execution_count": 3,
   "metadata": {
    "collapsed": false,
    "deletable": true,
    "editable": true
   },
   "outputs": [],
   "source": [
    "inst = list(insts)[0]\n",
    "ci = instances.ConnectedInstance(inst)"
   ]
  },
  {
   "cell_type": "code",
   "execution_count": 4,
   "metadata": {
    "collapsed": false,
    "deletable": true,
    "editable": true
   },
   "outputs": [
    {
     "name": "stdout",
     "output_type": "stream",
     "text": [
      "amber16\n",
      "build_gromacs_2016.4.sh\n",
      "build_gromacs.sh\n",
      "cocojob.sh\n",
      "dicker\n",
      "install_cuda.sh\n",
      "packages\n",
      "popylar\n",
      "scheduler.log\n",
      "shared\n",
      "TGTC\n",
      "TGTC_GMX\n",
      "tios\n",
      "\n"
     ]
    }
   ],
   "source": [
    "ci.exec_command('ls')\n",
    "print(ci.output)"
   ]
  },
  {
   "cell_type": "code",
   "execution_count": null,
   "metadata": {
    "collapsed": true,
    "deletable": true,
    "editable": true
   },
   "outputs": [],
   "source": [
    "ci.upload('penta_w.crd', 'shared/CoCo-MD_example2/penta_w.crd')"
   ]
  },
  {
   "cell_type": "code",
   "execution_count": null,
   "metadata": {
    "collapsed": true,
    "deletable": true,
    "editable": true
   },
   "outputs": [],
   "source": [
    "ci.upload('penta_w.top', 'shared/CoCo-MD_example2/penta_w.top')\n",
    "ci.upload('penta_w.pdb', 'shared/CoCo-MD_example2/penta_w.pdb')\n",
    "ci.upload('min1.in', 'shared/CoCo-MD_example2/min1.in')\n",
    "ci.upload('min2.in', 'shared/CoCo-MD_example2/min2.in')\n",
    "ci.upload('md.in', 'shared/CoCo-MD_example2/md.in')"
   ]
  },
  {
   "cell_type": "code",
   "execution_count": null,
   "metadata": {
    "collapsed": false,
    "deletable": true,
    "editable": true
   },
   "outputs": [],
   "source": [
    "ci.upload('dryrun_cocomd_2.py', 'shared/CoCo-MD_example2/dryrun_cocomd_2.py')"
   ]
  },
  {
   "cell_type": "code",
   "execution_count": null,
   "metadata": {
    "collapsed": false,
    "deletable": true,
    "editable": true
   },
   "outputs": [],
   "source": [
    "ci.exec_command('sudo pip install xbowflow==0.0.4')\n",
    "print(ci.output)"
   ]
  },
  {
   "cell_type": "code",
   "execution_count": 5,
   "metadata": {
    "collapsed": false,
    "deletable": true,
    "editable": true
   },
   "outputs": [
    {
     "name": "stdout",
     "output_type": "stream",
     "text": [
      "[ec2.Instance(id='i-0738c43cbe807a380'), ec2.Instance(id='i-0f19b95b56a087e95')]\n",
      "MyDaskWorkers 2018-02-11 17:23:25+00:00\n",
      "MyDaskWorkers 2018-02-11 17:23:25+00:00\n"
     ]
    }
   ],
   "source": [
    "insts = ec2_resource.instances.filter(Filters=[{'Name': 'key-name', 'Values': ['MyDaskWorkers']}])\n",
    "print list(insts)\n",
    "for instance in insts:\n",
    "    print instance.key_name, instance.launch_time"
   ]
  },
  {
   "cell_type": "code",
   "execution_count": 6,
   "metadata": {
    "collapsed": false,
    "deletable": true,
    "editable": true
   },
   "outputs": [
    {
     "name": "stdout",
     "output_type": "stream",
     "text": [
      "ready\n"
     ]
    }
   ],
   "source": [
    "from xbow import pools\n",
    "sip = pools.SpotInstancePool('MyDaskWorkers')\n",
    "print sip.status"
   ]
  },
  {
   "cell_type": "code",
   "execution_count": 15,
   "metadata": {
    "collapsed": false,
    "deletable": true,
    "editable": true
   },
   "outputs": [
    {
     "name": "stdout",
     "output_type": "stream",
     "text": [
      "Downloading/unpacking xbowflow==0.0.5\n",
      "  Downloading xbowflow-0.0.5.tar.gz\n",
      "  Running setup.py (path:/tmp/pip_build_root/xbowflow/setup.py) egg_info for package xbowflow\n",
      "    * Checking Python version...\n",
      "    * Python version OK!\n",
      "    \n",
      "    warning: no files found matching 'LICENSE.txt'\n",
      "    warning: no files found matching '*' under directory 'data'\n",
      "Installing collected packages: xbowflow\n",
      "  Found existing installation: xbowflow 0.0.4\n",
      "    Uninstalling xbowflow:\n",
      "      Successfully uninstalled xbowflow\n",
      "  Running setup.py install for xbowflow\n",
      "    * Checking Python version...\n",
      "    * Python version OK!\n",
      "    changing mode of build/scripts-2.7/xflow-run from 644 to 755\n",
      "    changing mode of build/scripts-2.7/xflow-submit from 644 to 755\n",
      "    \n",
      "    warning: no files found matching 'LICENSE.txt'\n",
      "    warning: no files found matching '*' under directory 'data'\n",
      "    changing mode of /usr/local/bin/xflow-run to 755\n",
      "    changing mode of /usr/local/bin/xflow-submit to 755\n",
      "Successfully installed xbowflow\n",
      "Cleaning up...\n",
      "\n"
     ]
    }
   ],
   "source": [
    "sip.exec_command('sudo pip install xbowflow==0.0.5')\n",
    "print sip.outputs[1]"
   ]
  },
  {
   "cell_type": "code",
   "execution_count": 13,
   "metadata": {
    "collapsed": false,
    "deletable": true,
    "editable": true
   },
   "outputs": [
    {
     "name": "stdout",
     "output_type": "stream",
     "text": [
      "[\"['', '/home/ubuntu/.local/lib/python2.7/site-packages/popylar-0.2-py2.7.egg', '/usr/lib/python2.7/dist-packages', '/usr/local/lib/python2.7/dist-packages/pymongo-3.5.1-py2.7-linux-x86_64.egg', '/usr/local/lib/python2.7/dist-packages/xbowflow-0.0.4-py2.7.egg', '/usr/lib/python2.7', '/usr/lib/python2.7/plat-x86_64-linux-gnu', '/usr/lib/python2.7/lib-tk', '/usr/lib/python2.7/lib-old', '/usr/lib/python2.7/lib-dynload', '/home/ubuntu/.local/lib/python2.7/site-packages', '/usr/local/lib/python2.7/dist-packages', '/usr/lib/python2.7/dist-packages/gtk-2.0']\\n\", \"['', '/home/ubuntu/.local/lib/python2.7/site-packages/popylar-0.2-py2.7.egg', '/usr/lib/python2.7/dist-packages', '/usr/local/lib/python2.7/dist-packages/pymongo-3.5.1-py2.7-linux-x86_64.egg', '/usr/local/lib/python2.7/dist-packages/xbowflow-0.0.4-py2.7.egg', '/usr/lib/python2.7', '/usr/lib/python2.7/plat-x86_64-linux-gnu', '/usr/lib/python2.7/lib-tk', '/usr/lib/python2.7/lib-old', '/usr/lib/python2.7/lib-dynload', '/home/ubuntu/.local/lib/python2.7/site-packages', '/usr/local/lib/python2.7/dist-packages', '/usr/lib/python2.7/dist-packages/gtk-2.0']\\n\"]\n"
     ]
    }
   ],
   "source": [
    "sip.exec_command('python -c \"import sys; print sys.path\"')\n",
    "print sip.outputs"
   ]
  },
  {
   "cell_type": "code",
   "execution_count": 16,
   "metadata": {
    "collapsed": true,
    "deletable": true,
    "editable": true
   },
   "outputs": [],
   "source": [
    "sip.terminate()"
   ]
  },
  {
   "cell_type": "code",
   "execution_count": null,
   "metadata": {
    "collapsed": true
   },
   "outputs": [],
   "source": []
  }
 ],
 "metadata": {
  "kernelspec": {
   "display_name": "Python 2",
   "language": "python",
   "name": "python2"
  },
  "language_info": {
   "codemirror_mode": {
    "name": "ipython",
    "version": 2
   },
   "file_extension": ".py",
   "mimetype": "text/x-python",
   "name": "python",
   "nbconvert_exporter": "python",
   "pygments_lexer": "ipython2",
   "version": "2.7.14"
  }
 },
 "nbformat": 4,
 "nbformat_minor": 2
}
