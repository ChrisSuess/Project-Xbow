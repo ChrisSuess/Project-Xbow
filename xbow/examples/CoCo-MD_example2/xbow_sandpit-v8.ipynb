{
 "cells": [
  {
   "cell_type": "code",
   "execution_count": 1,
   "metadata": {
    "collapsed": true,
    "deletable": true,
    "editable": true
   },
   "outputs": [],
   "source": [
    "import xbow\n",
    "from xbow import instances\n",
    "import boto3\n",
    "ec2_resource = boto3.resource('ec2', region_name='eu-west-1')"
   ]
  },
  {
   "cell_type": "code",
   "execution_count": 2,
   "metadata": {
    "collapsed": false,
    "deletable": true,
    "editable": true
   },
   "outputs": [
    {
     "name": "stdout",
     "output_type": "stream",
     "text": [
      "[ec2.Instance(id='i-0b815bc7e008016eb')]\n",
      "MyDaskScheduler 2018-02-06 10:42:48+00:00\n"
     ]
    }
   ],
   "source": [
    "insts = ec2_resource.instances.filter(Filters=[{'Name': 'key-name', 'Values': ['MyDaskScheduler']}])\n",
    "print list(insts)\n",
    "for instance in insts:\n",
    "    print instance.key_name, instance.launch_time"
   ]
  },
  {
   "cell_type": "code",
   "execution_count": 4,
   "metadata": {
    "collapsed": false,
    "deletable": true,
    "editable": true
   },
   "outputs": [],
   "source": [
    "inst = list(insts)[0]\n",
    "ci = instances.ConnectedInstance(inst)"
   ]
  },
  {
   "cell_type": "code",
   "execution_count": 5,
   "metadata": {
    "collapsed": false,
    "deletable": true,
    "editable": true
   },
   "outputs": [
    {
     "name": "stdout",
     "output_type": "stream",
     "text": [
      "amber16\n",
      "build_gromacs_2016.4.sh\n",
      "build_gromacs.sh\n",
      "cocojob.sh\n",
      "dicker\n",
      "install_cuda.sh\n",
      "packages\n",
      "popylar\n",
      "scheduler.log\n",
      "shared\n",
      "TGTC\n",
      "TGTC_GMX\n",
      "tios\n",
      "\n"
     ]
    }
   ],
   "source": [
    "ci.exec_command('ls')\n",
    "print(ci.output)"
   ]
  },
  {
   "cell_type": "code",
   "execution_count": 7,
   "metadata": {
    "collapsed": true,
    "deletable": true,
    "editable": true
   },
   "outputs": [],
   "source": [
    "ci.upload('penta_w.crd', 'shared/CoCo-MD_example2/penta_w.crd')"
   ]
  },
  {
   "cell_type": "code",
   "execution_count": 8,
   "metadata": {
    "collapsed": true,
    "deletable": true,
    "editable": true
   },
   "outputs": [],
   "source": [
    "ci.upload('penta_w.top', 'shared/CoCo-MD_example2/penta_w.top')\n",
    "ci.upload('penta_w.pdb', 'shared/CoCo-MD_example2/penta_w.pdb')\n",
    "ci.upload('min1.in', 'shared/CoCo-MD_example2/min1.in')\n",
    "ci.upload('min2.in', 'shared/CoCo-MD_example2/min2.in')\n",
    "ci.upload('md.in', 'shared/CoCo-MD_example2/md.in')"
   ]
  },
  {
   "cell_type": "code",
   "execution_count": 10,
   "metadata": {
    "collapsed": false,
    "deletable": true,
    "editable": true
   },
   "outputs": [],
   "source": [
    "ci.upload('dryrun_cocomd_2.py', 'shared/CoCo-MD_example2/dryrun_cocomd_2.py')"
   ]
  },
  {
   "cell_type": "code",
   "execution_count": 14,
   "metadata": {
    "collapsed": false,
    "deletable": true,
    "editable": true
   },
   "outputs": [
    {
     "name": "stdout",
     "output_type": "stream",
     "text": [
      "Downloading/unpacking xbowflow==0.0.4\n",
      "  Downloading xbowflow-0.0.4.tar.gz\n",
      "  Running setup.py (path:/tmp/pip_build_root/xbowflow/setup.py) egg_info for package xbowflow\n",
      "    * Checking Python version...\n",
      "    * Python version OK!\n",
      "    \n",
      "    warning: no files found matching 'LICENSE.txt'\n",
      "    warning: no files found matching '*' under directory 'data'\n",
      "Installing collected packages: xbowflow\n",
      "  Running setup.py install for xbowflow\n",
      "    * Checking Python version...\n",
      "    * Python version OK!\n",
      "    \n",
      "    warning: no files found matching 'LICENSE.txt'\n",
      "    warning: no files found matching '*' under directory 'data'\n",
      "Successfully installed xbowflow\n",
      "Cleaning up...\n",
      "\n"
     ]
    }
   ],
   "source": [
    "ci.exec_command('sudo pip install xbowflow==0.0.4')\n",
    "print(ci.output)"
   ]
  },
  {
   "cell_type": "code",
   "execution_count": 6,
   "metadata": {
    "collapsed": false,
    "deletable": true,
    "editable": true
   },
   "outputs": [
    {
     "name": "stdout",
     "output_type": "stream",
     "text": [
      "[ec2.Instance(id='i-0362744103038c661'), ec2.Instance(id='i-0037bc6359a5b0225'), ec2.Instance(id='i-0ce95f562d4dcfada'), ec2.Instance(id='i-0145b0f6b353ae0d3'), ec2.Instance(id='i-013bd8029b6319d60')]\n",
      "MyDaskWorkers 2018-02-06 10:43:22+00:00\n",
      "MyDaskWorkers 2018-02-06 10:43:22+00:00\n",
      "MyDaskWorkers 2018-02-06 10:43:22+00:00\n",
      "MyDaskWorkers 2018-02-06 10:43:22+00:00\n",
      "MyDaskWorkers 2018-02-06 10:43:22+00:00\n"
     ]
    }
   ],
   "source": [
    "insts = ec2_resource.instances.filter(Filters=[{'Name': 'key-name', 'Values': ['MyDaskWorkers']}])\n",
    "print list(insts)\n",
    "for instance in insts:\n",
    "    print instance.key_name, instance.launch_time"
   ]
  },
  {
   "cell_type": "code",
   "execution_count": 7,
   "metadata": {
    "collapsed": false,
    "deletable": true,
    "editable": true
   },
   "outputs": [
    {
     "ename": "AuthenticationException",
     "evalue": "Authentication failed.",
     "output_type": "error",
     "traceback": [
      "\u001b[0;31m---------------------------------------------------------------------------\u001b[0m",
      "\u001b[0;31mAuthenticationException\u001b[0m                   Traceback (most recent call last)",
      "\u001b[0;32m<ipython-input-7-3aaf97a13bc3>\u001b[0m in \u001b[0;36m<module>\u001b[0;34m()\u001b[0m\n\u001b[1;32m      1\u001b[0m \u001b[0;32mfrom\u001b[0m \u001b[0mxbow\u001b[0m \u001b[0;32mimport\u001b[0m \u001b[0mpools\u001b[0m\u001b[0;34m\u001b[0m\u001b[0m\n\u001b[0;32m----> 2\u001b[0;31m \u001b[0msip\u001b[0m \u001b[0;34m=\u001b[0m \u001b[0mpools\u001b[0m\u001b[0;34m.\u001b[0m\u001b[0mSpotInstancePool\u001b[0m\u001b[0;34m(\u001b[0m\u001b[0;34m'MyDaskWorkers'\u001b[0m\u001b[0;34m)\u001b[0m\u001b[0;34m\u001b[0m\u001b[0m\n\u001b[0m\u001b[1;32m      3\u001b[0m \u001b[0;32mprint\u001b[0m \u001b[0msip\u001b[0m\u001b[0;34m.\u001b[0m\u001b[0mstatus\u001b[0m\u001b[0;34m\u001b[0m\u001b[0m\n",
      "\u001b[0;32m/Users/pazcal/Library/Python/2.7/lib/python/site-packages/xbow-0.0.1-py2.7.egg/xbow/pools.pyc\u001b[0m in \u001b[0;36m__init__\u001b[0;34m(self, name, region)\u001b[0m\n\u001b[1;32m    196\u001b[0m         \u001b[0mself\u001b[0m\u001b[0;34m.\u001b[0m\u001b[0minstances\u001b[0m \u001b[0;34m=\u001b[0m \u001b[0mNone\u001b[0m\u001b[0;34m\u001b[0m\u001b[0m\n\u001b[1;32m    197\u001b[0m         \u001b[0mself\u001b[0m\u001b[0;34m.\u001b[0m\u001b[0mconnected_instances\u001b[0m \u001b[0;34m=\u001b[0m \u001b[0mNone\u001b[0m\u001b[0;34m\u001b[0m\u001b[0m\n\u001b[0;32m--> 198\u001b[0;31m         \u001b[0mself\u001b[0m\u001b[0;34m.\u001b[0m\u001b[0mrefresh\u001b[0m\u001b[0;34m(\u001b[0m\u001b[0;34m)\u001b[0m\u001b[0;34m\u001b[0m\u001b[0m\n\u001b[0m\u001b[1;32m    199\u001b[0m \u001b[0;34m\u001b[0m\u001b[0m\n\u001b[1;32m    200\u001b[0m     \u001b[0;32mdef\u001b[0m \u001b[0mget_status\u001b[0m\u001b[0;34m(\u001b[0m\u001b[0mself\u001b[0m\u001b[0;34m)\u001b[0m\u001b[0;34m:\u001b[0m\u001b[0;34m\u001b[0m\u001b[0m\n",
      "\u001b[0;32m/Users/pazcal/Library/Python/2.7/lib/python/site-packages/xbow-0.0.1-py2.7.egg/xbow/pools.pyc\u001b[0m in \u001b[0;36mrefresh\u001b[0;34m(self)\u001b[0m\n\u001b[1;32m    261\u001b[0m                                                       \u001b[0mself\u001b[0m\u001b[0;34m.\u001b[0m\u001b[0musername\u001b[0m\u001b[0;34m,\u001b[0m\u001b[0;34m\u001b[0m\u001b[0m\n\u001b[1;32m    262\u001b[0m                                                       self.pem_file)\n\u001b[0;32m--> 263\u001b[0;31m                                     for i in self.instances]\n\u001b[0m\u001b[1;32m    264\u001b[0m         \u001b[0mself\u001b[0m\u001b[0;34m.\u001b[0m\u001b[0mget_status\u001b[0m\u001b[0;34m(\u001b[0m\u001b[0;34m)\u001b[0m\u001b[0;34m\u001b[0m\u001b[0m\n\u001b[1;32m    265\u001b[0m \u001b[0;34m\u001b[0m\u001b[0m\n",
      "\u001b[0;32m/Users/pazcal/Library/Python/2.7/lib/python/site-packages/xbow-0.0.1-py2.7.egg/xbow/instances.pyc\u001b[0m in \u001b[0;36m__init__\u001b[0;34m(self, instance, username, key_filename)\u001b[0m\n\u001b[1;32m     59\u001b[0m \u001b[0;34m\u001b[0m\u001b[0m\n\u001b[1;32m     60\u001b[0m         self.sshclient.connect(instance.public_ip_address, username=username,\n\u001b[0;32m---> 61\u001b[0;31m                                key_filename=key_filename, timeout=10)\n\u001b[0m\u001b[1;32m     62\u001b[0m         \u001b[0mself\u001b[0m\u001b[0;34m.\u001b[0m\u001b[0mtransport\u001b[0m \u001b[0;34m=\u001b[0m \u001b[0mself\u001b[0m\u001b[0;34m.\u001b[0m\u001b[0msshclient\u001b[0m\u001b[0;34m.\u001b[0m\u001b[0mget_transport\u001b[0m\u001b[0;34m(\u001b[0m\u001b[0;34m)\u001b[0m\u001b[0;34m\u001b[0m\u001b[0m\n\u001b[1;32m     63\u001b[0m         \u001b[0;32mif\u001b[0m \u001b[0;32mnot\u001b[0m \u001b[0mself\u001b[0m\u001b[0;34m.\u001b[0m\u001b[0mtransport\u001b[0m\u001b[0;34m.\u001b[0m\u001b[0mis_active\u001b[0m\u001b[0;34m(\u001b[0m\u001b[0;34m)\u001b[0m\u001b[0;34m:\u001b[0m\u001b[0;34m\u001b[0m\u001b[0m\n",
      "\u001b[0;32m/Users/pazcal/Library/Python/2.7/lib/python/site-packages/paramiko/client.pyc\u001b[0m in \u001b[0;36mconnect\u001b[0;34m(self, hostname, port, username, password, pkey, key_filename, timeout, allow_agent, look_for_keys, compress, sock, gss_auth, gss_kex, gss_deleg_creds, gss_host, banner_timeout)\u001b[0m\n\u001b[1;32m    379\u001b[0m             \u001b[0mgss_host\u001b[0m \u001b[0;34m=\u001b[0m \u001b[0mhostname\u001b[0m\u001b[0;34m\u001b[0m\u001b[0m\n\u001b[1;32m    380\u001b[0m         self._auth(username, password, pkey, key_filenames, allow_agent,\n\u001b[0;32m--> 381\u001b[0;31m                    look_for_keys, gss_auth, gss_kex, gss_deleg_creds, gss_host)\n\u001b[0m\u001b[1;32m    382\u001b[0m \u001b[0;34m\u001b[0m\u001b[0m\n\u001b[1;32m    383\u001b[0m     \u001b[0;32mdef\u001b[0m \u001b[0mclose\u001b[0m\u001b[0;34m(\u001b[0m\u001b[0mself\u001b[0m\u001b[0;34m)\u001b[0m\u001b[0;34m:\u001b[0m\u001b[0;34m\u001b[0m\u001b[0m\n",
      "\u001b[0;32m/Users/pazcal/Library/Python/2.7/lib/python/site-packages/paramiko/client.pyc\u001b[0m in \u001b[0;36m_auth\u001b[0;34m(self, username, password, pkey, key_filenames, allow_agent, look_for_keys, gss_auth, gss_kex, gss_deleg_creds, gss_host)\u001b[0m\n\u001b[1;32m    620\u001b[0m         \u001b[0;31m# if we got an auth-failed exception earlier, re-raise it\u001b[0m\u001b[0;34m\u001b[0m\u001b[0;34m\u001b[0m\u001b[0m\n\u001b[1;32m    621\u001b[0m         \u001b[0;32mif\u001b[0m \u001b[0msaved_exception\u001b[0m \u001b[0;32mis\u001b[0m \u001b[0;32mnot\u001b[0m \u001b[0mNone\u001b[0m\u001b[0;34m:\u001b[0m\u001b[0;34m\u001b[0m\u001b[0m\n\u001b[0;32m--> 622\u001b[0;31m             \u001b[0;32mraise\u001b[0m \u001b[0msaved_exception\u001b[0m\u001b[0;34m\u001b[0m\u001b[0m\n\u001b[0m\u001b[1;32m    623\u001b[0m         \u001b[0;32mraise\u001b[0m \u001b[0mSSHException\u001b[0m\u001b[0;34m(\u001b[0m\u001b[0;34m'No authentication methods available'\u001b[0m\u001b[0;34m)\u001b[0m\u001b[0;34m\u001b[0m\u001b[0m\n\u001b[1;32m    624\u001b[0m \u001b[0;34m\u001b[0m\u001b[0m\n",
      "\u001b[0;31mAuthenticationException\u001b[0m: Authentication failed."
     ]
    }
   ],
   "source": [
    "from xbow import pools\n",
    "sip = pools.SpotInstancePool('MyDaskWorkers')\n",
    "print sip.status"
   ]
  },
  {
   "cell_type": "code",
   "execution_count": 8,
   "metadata": {
    "collapsed": false,
    "deletable": true,
    "editable": true
   },
   "outputs": [
    {
     "name": "stdout",
     "output_type": "stream",
     "text": [
      "Downloading/unpacking xbowflow==0.0.3\n",
      "  Downloading xbowflow-0.0.3.tar.gz\n",
      "  Running setup.py (path:/tmp/pip_build_root/xbowflow/setup.py) egg_info for package xbowflow\n",
      "    * Checking Python version...\n",
      "    * Python version OK!\n",
      "    \n",
      "    warning: no files found matching 'LICENSE.txt'\n",
      "    warning: no files found matching '*' under directory 'data'\n",
      "Installing collected packages: xbowflow\n",
      "  Running setup.py install for xbowflow\n",
      "    * Checking Python version...\n",
      "    * Python version OK!\n",
      "    \n",
      "    warning: no files found matching 'LICENSE.txt'\n",
      "    warning: no files found matching '*' under directory 'data'\n",
      "Successfully installed xbowflow\n",
      "Cleaning up...\n",
      "\n"
     ]
    }
   ],
   "source": [
    "sip.exec_command('sudo pip install xbowflow==0.0.4')\n",
    "print sip.outputs[0]"
   ]
  },
  {
   "cell_type": "code",
   "execution_count": 14,
   "metadata": {
    "collapsed": false,
    "deletable": true,
    "editable": true
   },
   "outputs": [
    {
     "name": "stdout",
     "output_type": "stream",
     "text": [
      "\n",
      "  Unit    5 Error on OPEN: mdin                                                                                                                                                                                                                                                            \n",
      "\n",
      "  Unit    5 Error on OPEN: mdin                                                                                                                                                                                                                                                            \n",
      "STOP PMEMD Terminated Abnormally!\n",
      "\n"
     ]
    }
   ],
   "source": [
    "sip.exec_command('/home/ubuntu/amber16/bin/pmemd.cuda')\n",
    "print sip.outputs[0]"
   ]
  },
  {
   "cell_type": "code",
   "execution_count": null,
   "metadata": {
    "collapsed": true,
    "deletable": true,
    "editable": true
   },
   "outputs": [],
   "source": []
  }
 ],
 "metadata": {
  "kernelspec": {
   "display_name": "Python 2",
   "language": "python",
   "name": "python2"
  },
  "language_info": {
   "codemirror_mode": {
    "name": "ipython",
    "version": 2
   },
   "file_extension": ".py",
   "mimetype": "text/x-python",
   "name": "python",
   "nbconvert_exporter": "python",
   "pygments_lexer": "ipython2",
   "version": "2.7.14"
  }
 },
 "nbformat": 4,
 "nbformat_minor": 2
}
