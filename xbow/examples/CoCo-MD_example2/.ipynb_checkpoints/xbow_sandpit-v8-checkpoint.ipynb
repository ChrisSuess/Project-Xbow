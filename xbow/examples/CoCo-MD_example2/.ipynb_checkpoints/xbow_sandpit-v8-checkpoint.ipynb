{
 "cells": [
  {
   "cell_type": "code",
   "execution_count": 1,
   "metadata": {
    "collapsed": true,
    "deletable": true,
    "editable": true
   },
   "outputs": [],
   "source": [
    "import xbow\n",
    "from xbow import instances\n",
    "import boto3\n",
    "ec2_resource = boto3.resource('ec2', region_name='eu-west-1')"
   ]
  },
  {
   "cell_type": "code",
   "execution_count": 2,
   "metadata": {
    "collapsed": false,
    "deletable": true,
    "editable": true
   },
   "outputs": [
    {
     "name": "stdout",
     "output_type": "stream",
     "text": [
      "[ec2.Instance(id='i-09f00a71e81246141')]\n",
      "MyDaskScheduler 2018-02-05 17:48:00+00:00\n"
     ]
    }
   ],
   "source": [
    "insts = ec2_resource.instances.filter(Filters=[{'Name': 'key-name', 'Values': ['MyDaskScheduler']}])\n",
    "print list(insts)\n",
    "for instance in insts:\n",
    "    print instance.key_name, instance.launch_time"
   ]
  },
  {
   "cell_type": "code",
   "execution_count": 3,
   "metadata": {
    "collapsed": false,
    "deletable": true,
    "editable": true
   },
   "outputs": [],
   "source": [
    "inst = list(insts)[0]\n",
    "ci = instances.ConnectedInstance(inst)"
   ]
  },
  {
   "cell_type": "code",
   "execution_count": 4,
   "metadata": {
    "collapsed": false,
    "deletable": true,
    "editable": true
   },
   "outputs": [
    {
     "name": "stdout",
     "output_type": "stream",
     "text": [
      "amber16\n",
      "build_gromacs_2016.4.sh\n",
      "build_gromacs.sh\n",
      "cocojob.sh\n",
      "dicker\n",
      "install_cuda.sh\n",
      "packages\n",
      "popylar\n",
      "scheduler.log\n",
      "shared\n",
      "TGTC\n",
      "TGTC_GMX\n",
      "tios\n",
      "\n"
     ]
    }
   ],
   "source": [
    "ci.exec_command('ls')\n",
    "print(ci.output)"
   ]
  },
  {
   "cell_type": "code",
   "execution_count": 7,
   "metadata": {
    "collapsed": true,
    "deletable": true,
    "editable": true
   },
   "outputs": [],
   "source": [
    "ci.upload('penta_w.crd', 'shared/CoCo-MD_example2/penta_w.crd')"
   ]
  },
  {
   "cell_type": "code",
   "execution_count": 8,
   "metadata": {
    "collapsed": true,
    "deletable": true,
    "editable": true
   },
   "outputs": [],
   "source": [
    "ci.upload('penta_w.top', 'shared/CoCo-MD_example2/penta_w.top')\n",
    "ci.upload('penta_w.pdb', 'shared/CoCo-MD_example2/penta_w.pdb')\n",
    "ci.upload('min1.in', 'shared/CoCo-MD_example2/min1.in')\n",
    "ci.upload('min2.in', 'shared/CoCo-MD_example2/min2.in')\n",
    "ci.upload('md.in', 'shared/CoCo-MD_example2/md.in')"
   ]
  },
  {
   "cell_type": "code",
   "execution_count": 10,
   "metadata": {
    "collapsed": false,
    "deletable": true,
    "editable": true
   },
   "outputs": [],
   "source": [
    "ci.upload('dryrun_cocomd_2.py', 'shared/CoCo-MD_example2/dryrun_cocomd_2.py')"
   ]
  },
  {
   "cell_type": "code",
   "execution_count": 11,
   "metadata": {
    "collapsed": false,
    "deletable": true,
    "editable": true
   },
   "outputs": [
    {
     "name": "stdout",
     "output_type": "stream",
     "text": [
      "Downloading/unpacking xbowflow==0.0.4\n",
      "  Could not find a version that satisfies the requirement xbowflow==0.0.4 (from versions: 0.0.1, 0.0.2, 0.0.3)\n",
      "Cleaning up...\n",
      "No distributions matching the version for xbowflow==0.0.4\n",
      "Storing debug log for failure in /home/ubuntu/.pip/pip.log\n",
      "\n"
     ]
    }
   ],
   "source": [
    "ci.exec_command('sudo pip install xbowflow==0.0.4')\n",
    "print(ci.output)"
   ]
  },
  {
   "cell_type": "code",
   "execution_count": 6,
   "metadata": {
    "collapsed": false
   },
   "outputs": [
    {
     "name": "stdout",
     "output_type": "stream",
     "text": [
      "[ec2.Instance(id='i-01ea2335c11872757'), ec2.Instance(id='i-00a2b27ad361a28b1')]\n",
      "MyDaskWorkers"
     ]
    },
    {
     "ename": "AttributeError",
     "evalue": "'ec2.Instance' object has no attribute 'lau'",
     "output_type": "error",
     "traceback": [
      "\u001b[0;31m---------------------------------------------------------------------------\u001b[0m",
      "\u001b[0;31mAttributeError\u001b[0m                            Traceback (most recent call last)",
      "\u001b[0;32m<ipython-input-6-b26654f6129b>\u001b[0m in \u001b[0;36m<module>\u001b[0;34m()\u001b[0m\n\u001b[1;32m      2\u001b[0m \u001b[0;32mprint\u001b[0m \u001b[0mlist\u001b[0m\u001b[0;34m(\u001b[0m\u001b[0minsts\u001b[0m\u001b[0;34m)\u001b[0m\u001b[0;34m\u001b[0m\u001b[0m\n\u001b[1;32m      3\u001b[0m \u001b[0;32mfor\u001b[0m \u001b[0minstance\u001b[0m \u001b[0;32min\u001b[0m \u001b[0minsts\u001b[0m\u001b[0;34m:\u001b[0m\u001b[0;34m\u001b[0m\u001b[0m\n\u001b[0;32m----> 4\u001b[0;31m     \u001b[0;32mprint\u001b[0m \u001b[0minstance\u001b[0m\u001b[0;34m.\u001b[0m\u001b[0mkey_name\u001b[0m\u001b[0;34m,\u001b[0m \u001b[0minstance\u001b[0m\u001b[0;34m.\u001b[0m\u001b[0mlau\u001b[0m\u001b[0;34m\u001b[0m\u001b[0m\n\u001b[0m",
      "\u001b[0;31mAttributeError\u001b[0m: 'ec2.Instance' object has no attribute 'lau'"
     ]
    }
   ],
   "source": [
    "insts = ec2_resource.instances.filter(Filters=[{'Name': 'key-name', 'Values': ['MyDaskWorkers']}])\n",
    "print list(insts)\n",
    "for instance in insts:\n",
    "    print instance.key_name, instance.launch_time"
   ]
  },
  {
   "cell_type": "code",
   "execution_count": 7,
   "metadata": {
    "collapsed": false
   },
   "outputs": [
    {
     "name": "stdout",
     "output_type": "stream",
     "text": [
      " ready\n"
     ]
    }
   ],
   "source": [
    "from xbow import pools\n",
    "sip = pools.SpotInstancePool('MyDaskWorkers')\n",
    "print sip.status"
   ]
  },
  {
   "cell_type": "code",
   "execution_count": 8,
   "metadata": {
    "collapsed": false
   },
   "outputs": [
    {
     "name": "stdout",
     "output_type": "stream",
     "text": [
      "Downloading/unpacking xbowflow==0.0.3\n",
      "  Downloading xbowflow-0.0.3.tar.gz\n",
      "  Running setup.py (path:/tmp/pip_build_root/xbowflow/setup.py) egg_info for package xbowflow\n",
      "    * Checking Python version...\n",
      "    * Python version OK!\n",
      "    \n",
      "    warning: no files found matching 'LICENSE.txt'\n",
      "    warning: no files found matching '*' under directory 'data'\n",
      "Installing collected packages: xbowflow\n",
      "  Running setup.py install for xbowflow\n",
      "    * Checking Python version...\n",
      "    * Python version OK!\n",
      "    \n",
      "    warning: no files found matching 'LICENSE.txt'\n",
      "    warning: no files found matching '*' under directory 'data'\n",
      "Successfully installed xbowflow\n",
      "Cleaning up...\n",
      "\n"
     ]
    }
   ],
   "source": [
    "sip.exec_command('sudo pip install xbowflow==0.0.4')\n",
    "print sip.outputs[0]"
   ]
  },
  {
   "cell_type": "code",
   "execution_count": 14,
   "metadata": {
    "collapsed": false
   },
   "outputs": [
    {
     "name": "stdout",
     "output_type": "stream",
     "text": [
      "\n",
      "  Unit    5 Error on OPEN: mdin                                                                                                                                                                                                                                                            \n",
      "\n",
      "  Unit    5 Error on OPEN: mdin                                                                                                                                                                                                                                                            \n",
      "STOP PMEMD Terminated Abnormally!\n",
      "\n"
     ]
    }
   ],
   "source": [
    "sip.exec_command('/home/ubuntu/amber16/bin/pmemd.cuda')\n",
    "print sip.outputs[0]"
   ]
  },
  {
   "cell_type": "code",
   "execution_count": null,
   "metadata": {
    "collapsed": true
   },
   "outputs": [],
   "source": []
  }
 ],
 "metadata": {
  "kernelspec": {
   "display_name": "Python 2",
   "language": "python",
   "name": "python2"
  },
  "language_info": {
   "codemirror_mode": {
    "name": "ipython",
    "version": 2
   },
   "file_extension": ".py",
   "mimetype": "text/x-python",
   "name": "python",
   "nbconvert_exporter": "python",
   "pygments_lexer": "ipython2",
   "version": "2.7.14"
  }
 },
 "nbformat": 4,
 "nbformat_minor": 2
}
