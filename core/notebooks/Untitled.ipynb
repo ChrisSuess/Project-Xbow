{
 "cells": [
  {
   "cell_type": "markdown",
   "metadata": {
    "deletable": true,
    "editable": true
   },
   "source": [
    "## Project-Xbow: Example notebook\n",
    "In this notebook we see how we can identify the head node of a running xbow-cluster"
   ]
  },
  {
   "cell_type": "code",
   "execution_count": 1,
   "metadata": {
    "collapsed": false,
    "deletable": true,
    "editable": true
   },
   "outputs": [
    {
     "name": "stdout",
     "output_type": "stream",
     "text": [
      "<module 'xbow.instances' from '/Users/pazcal/Library/Python/2.7/lib/python/site-packages/xbow-0.0.1-py2.7.egg/xbow/instances.pyc'>\n"
     ]
    }
   ],
   "source": [
    "import xbow\n",
    "from xbow import instances\n",
    "import boto3\n",
    "ec2_resource = boto3.resource('ec2')\n",
    "print xbow.instances"
   ]
  },
  {
   "cell_type": "code",
   "execution_count": 2,
   "metadata": {
    "collapsed": true,
    "deletable": true,
    "editable": true
   },
   "outputs": [],
   "source": [
    "cluster_name = 'MyDaskCluster'\n",
    "scheduler_name = 'MyDaskScheduler'"
   ]
  },
  {
   "cell_type": "code",
   "execution_count": 3,
   "metadata": {
    "collapsed": false,
    "deletable": true,
    "editable": true
   },
   "outputs": [
    {
     "name": "stdout",
     "output_type": "stream",
     "text": [
      "ec2.Instance(id='i-0405ef8d1034f4c59')\n"
     ]
    }
   ],
   "source": [
    "instances = list(ec2_resource.instances.filter(Filters=[{'Name': 'key-name', 'Values': [scheduler_name]},\n",
    "                                            {'Name': 'instance-state-name', 'Values': ['running']}]))\n",
    "if len(instances) == 0:\n",
    "    print('Error - cannot find {}'.format(scheduler_name))\n",
    "elif len(instances) > 1:\n",
    "    print('Error - more than one instance found with that name')\n",
    "else:\n",
    "    print instances[0]\n",
    "    ci = xbow.instances.ConnectedInstance(instances[0])\n",
    "        "
   ]
  },
  {
   "cell_type": "code",
   "execution_count": 4,
   "metadata": {
    "collapsed": true,
    "deletable": true,
    "editable": true
   },
   "outputs": [],
   "source": [
    "ci.exec_command('ls')"
   ]
  },
  {
   "cell_type": "code",
   "execution_count": 5,
   "metadata": {
    "collapsed": false,
    "deletable": true,
    "editable": true
   },
   "outputs": [
    {
     "name": "stdout",
     "output_type": "stream",
     "text": [
      "amber16\n",
      "build_gromacs_2016.4.sh\n",
      "build_gromacs.sh\n",
      "cocojob.sh\n",
      "dicker\n",
      "install_cuda.sh\n",
      "packages\n",
      "popylar\n",
      "scheduler.log\n",
      "shared\n",
      "TGTC\n",
      "TGTC_GMX\n",
      "tios\n",
      "\n"
     ]
    }
   ],
   "source": [
    "print ci.output"
   ]
  },
  {
   "cell_type": "code",
   "execution_count": 6,
   "metadata": {
    "collapsed": false,
    "deletable": true,
    "editable": true
   },
   "outputs": [
    {
     "name": "stdout",
     "output_type": "stream",
     "text": [
      "10wk002ns100its.py\n",
      "check_dask.py\n",
      "csaw_amber.pdb\n",
      "csaw.min1\n",
      "csaw.top\n",
      "dryrun_cocomd_2.log\n",
      "dryrun_cocomd_2.py\n",
      "pipelines.py\n",
      "pipelines.pyc\n",
      "production_md.in\n",
      "README\n",
      "run_cocomd_2.log\n",
      "run_cocomd_2.py\n",
      "run_cocomd2.py\n",
      "run_cocomd.py\n",
      "test_dask.py\n",
      "tmd_1.in\n",
      "tmd_2.in\n",
      "\n"
     ]
    }
   ],
   "source": [
    "ci.exec_command('ls shared/CoCo-MD_example')\n",
    "print ci.output"
   ]
  },
  {
   "cell_type": "code",
   "execution_count": null,
   "metadata": {
    "collapsed": false,
    "deletable": true,
    "editable": true
   },
   "outputs": [],
   "source": [
    "ci.exec_command('rm -f shared/CoCo-MD_example/csaw_[01]* shared/CoCo-MD_example/*.out shared/CoCo-MD_example/*.log; ls shared/CoCo-MD_example')\n",
    "print ci.output"
   ]
  },
  {
   "cell_type": "code",
   "execution_count": 12,
   "metadata": {
    "collapsed": false,
    "deletable": true,
    "editable": true
   },
   "outputs": [
    {
     "name": "stdout",
     "output_type": "stream",
     "text": [
      "#!/bin/bash\n",
      "cd shared/CoCo-MD_example\n",
      "python run_cocomd_2.py > run_cocomd_2.log\n",
      "\n"
     ]
    }
   ],
   "source": [
    "ci.exec_command('echo \\#\\!/bin/bash > crap.sh; echo cd shared/CoCo-MD_example >> crap.sh; echo python run_cocomd_2.py \\> run_cocomd_2.log >> crap.sh; cat crap.sh')\n",
    "print ci.output"
   ]
  },
  {
   "cell_type": "code",
   "execution_count": 13,
   "metadata": {
    "collapsed": false,
    "deletable": true,
    "editable": true
   },
   "outputs": [],
   "source": [
    "ci.upload('../examples/CoCo-MD_example/run_cocomd_2.py', 'shared/CoCo-MD_example/run_cocomd_2.py')"
   ]
  },
  {
   "cell_type": "code",
   "execution_count": 14,
   "metadata": {
    "collapsed": false,
    "deletable": true,
    "editable": true
   },
   "outputs": [
    {
     "name": "stdout",
     "output_type": "stream",
     "text": [
      "warning: commands will be executed using /bin/sh\n",
      "job 6 at Mon Jan 29 06:40:00 2018\n",
      "\n"
     ]
    }
   ],
   "source": [
    "ci.exec_command('batch < crap.sh')\n",
    "print ci.output"
   ]
  },
  {
   "cell_type": "code",
   "execution_count": 16,
   "metadata": {
    "collapsed": false,
    "deletable": true,
    "editable": true
   },
   "outputs": [
    {
     "name": "stdout",
     "output_type": "stream",
     "text": [
      "10wk002ns100its.py\n",
      "check_dask.py\n",
      "coco00.log\n",
      "csaw_0_0_0.rst\n",
      "csaw_0_0_1.rst\n",
      "csaw_0_0_2.rst\n",
      "csaw_0_0.nc\n",
      "csaw_0_0.rst7\n",
      "csaw_0_1_0.rst\n",
      "csaw_0_1_1.rst\n",
      "csaw_0_1_2.rst\n",
      "csaw_0_1.nc\n",
      "csaw_0_1.rst7\n",
      "csaw_1_0_0.rst\n",
      "csaw_1_0_1.rst\n",
      "csaw_1_0_2.rst\n",
      "csaw_1_0.nc\n",
      "csaw_1_1_0.rst\n",
      "csaw_1_1_1.rst\n",
      "csaw_1_1_2.rst\n",
      "csaw_1_1.nc\n",
      "csaw_amber.pdb\n",
      "csaw.min1\n",
      "csaw.top\n",
      "dryrun_cocomd_2.log\n",
      "dryrun_cocomd_2.py\n",
      "pipelines.py\n",
      "pipelines.pyc\n",
      "production_md.in\n",
      "README\n",
      "run_cocomd_2.log\n",
      "run_cocomd_2.py\n",
      "run_cocomd2.py\n",
      "run_cocomd.py\n",
      "test_dask.py\n",
      "tmd_1.in\n",
      "tmd_2.in\n",
      "\n"
     ]
    }
   ],
   "source": [
    "ci.exec_command('ls shared/CoCo-MD_example')\n",
    "print ci.output"
   ]
  },
  {
   "cell_type": "code",
   "execution_count": 18,
   "metadata": {
    "collapsed": false,
    "deletable": true,
    "editable": true
   },
   "outputs": [
    {
     "name": "stdout",
     "output_type": "stream",
     "text": [
      "[{'tmp': '/tmp/tmplQZ0mc', 'returncode': 0, 'input_file': '/home/ubuntu/shared/CoCo-MD_example/tmd_1.in', 'ref_coordinate_list': '/home/ubuntu/shared/CoCo-MD_example/csaw_1_0.rst7 /home/ubuntu/shared/CoCo-MD_example/csaw_1_1.rst7', 'trajectory': '/home/ubuntu/shared/CoCo-MD_example/csaw_1_0.nc', 'rep': '0', 'cmd': 'mkdir -p /tmp/tmplQZ0mc; cd /tmp/tmplQZ0mc; mpirun -np 2 pmemd.MPI -c -O -c /home/ubuntu/shared/CoCo-MD_example/csaw.min1 -p /home/ubuntu/shared/CoCo-MD_example/csaw.top -i /home/ubuntu/shared/CoCo-MD_example/tmd_1.in -r /home/ubuntu/shared/CoCo-MD_example/csaw_2_0_0.rst -ref /home/ubuntu/shared/CoCo-MD_example/csaw_1_0.rst7', 'reps': '0 1', 'ref_coordinates': '/home/ubuntu/shared/CoCo-MD_example/csaw_1_0.rst7', 'template': '{run_md} -c -O -c {shared}/csaw.min1 -p {shared}/csaw.top -i {input_file} -r {end_coordinates} -ref {ref_coordinates}', 'output': 'INFO: Verbose output.\\nINFO: creating cofasu...\\nINFO: cofasu contains 85 atoms and 16 frames\\nINFO: time to load trajectory data: 1.41 s.\\nINFO: running pcazip...\\nINFO: Pcz: least-squares fitting snapshots...\\nINFO: Pcz: calculating covariance matrix...\\nINFO: Using fast approximate diagonalisation method\\nINFO: Pcz: diagonalizing covariance matrix...\\nINFO: Pcz: calculating projections...\\nINFO: Total variance: 41.85\\nINFO: generating new points...\\n', 'shared': '/home/ubuntu/shared/CoCo-MD_example', 'run_md': 'mkdir -p /tmp/tmplQZ0mc; cd /tmp/tmplQZ0mc; mpirun -np 2 pmemd.MPI', 'end_coordinates': '/home/ubuntu/shared/CoCo-MD_example/csaw_2_0_0.rst', 'start_coordinates': '/home/ubuntu/shared/CoCo-MD_example/csaw_1_0_1.rst', 'stage': '0', 'cycle': 2}, {'tmp': '/tmp/tmplQZ0mc', 'returncode': 0, 'input_file': '/home/ubuntu/shared/CoCo-MD_example/tmd_1.in', 'ref_coordinate_list': '/home/ubuntu/shared/CoCo-MD_example/csaw_1_0.rst7 /home/ubuntu/shared/CoCo-MD_example/csaw_1_1.rst7', 'trajectory': '/home/ubuntu/shared/CoCo-MD_example/csaw_1_0.nc', 'rep': '1', 'cmd': 'mkdir -p /tmp/tmplQZ0mc; cd /tmp/tmplQZ0mc; mpirun -np 2 pmemd.MPI -c -O -c /home/ubuntu/shared/CoCo-MD_example/csaw.min1 -p /home/ubuntu/shared/CoCo-MD_example/csaw.top -i /home/ubuntu/shared/CoCo-MD_example/tmd_1.in -r /home/ubuntu/shared/CoCo-MD_example/csaw_2_1_0.rst -ref /home/ubuntu/shared/CoCo-MD_example/csaw_1_1.rst7', 'reps': '0 1', 'ref_coordinates': '/home/ubuntu/shared/CoCo-MD_example/csaw_1_1.rst7', 'template': '{run_md} -c -O -c {shared}/csaw.min1 -p {shared}/csaw.top -i {input_file} -r {end_coordinates} -ref {ref_coordinates}', 'output': 'INFO: Verbose output.\\nINFO: creating cofasu...\\nINFO: cofasu contains 85 atoms and 16 frames\\nINFO: time to load trajectory data: 1.41 s.\\nINFO: running pcazip...\\nINFO: Pcz: least-squares fitting snapshots...\\nINFO: Pcz: calculating covariance matrix...\\nINFO: Using fast approximate diagonalisation method\\nINFO: Pcz: diagonalizing covariance matrix...\\nINFO: Pcz: calculating projections...\\nINFO: Total variance: 41.85\\nINFO: generating new points...\\n', 'shared': '/home/ubuntu/shared/CoCo-MD_example', 'run_md': 'mkdir -p /tmp/tmplQZ0mc; cd /tmp/tmplQZ0mc; mpirun -np 2 pmemd.MPI', 'end_coordinates': '/home/ubuntu/shared/CoCo-MD_example/csaw_2_1_0.rst', 'start_coordinates': '/home/ubuntu/shared/CoCo-MD_example/csaw_1_0_1.rst', 'stage': '0', 'cycle': 2}]\n",
      "\n"
     ]
    }
   ],
   "source": [
    "ci.exec_command('cat shared/CoCo-MD_example/run_cocomd_2.log')\n",
    "print ci.output"
   ]
  },
  {
   "cell_type": "code",
   "execution_count": 21,
   "metadata": {
    "collapsed": false
   },
   "outputs": [
    {
     "name": "stdout",
     "output_type": "stream",
     "text": [
      "[ec2.Instance(id='i-0405ef8d1034f4c59')]\n"
     ]
    }
   ],
   "source": [
    "schedulers = xbow.instances.get_by_name('MyDaskScheduler')\n",
    "print schedulers"
   ]
  },
  {
   "cell_type": "code",
   "execution_count": 20,
   "metadata": {
    "collapsed": false
   },
   "outputs": [
    {
     "data": {
      "text/plain": [
       "<module 'xbow.instances' from '/Users/pazcal/Library/Python/2.7/lib/python/site-packages/xbow-0.0.1-py2.7.egg/xbow/instances.pyc'>"
      ]
     },
     "execution_count": 20,
     "metadata": {},
     "output_type": "execute_result"
    }
   ],
   "source": [
    "reload(xbow.instances)"
   ]
  },
  {
   "cell_type": "code",
   "execution_count": 23,
   "metadata": {
    "collapsed": false
   },
   "outputs": [
    {
     "name": "stdout",
     "output_type": "stream",
     "text": [
      "[ec2.Instance(id='i-0067db51208b056af'), ec2.Instance(id='i-00d733e7911fe7f2f')]\n"
     ]
    }
   ],
   "source": [
    "workers = xbow.instances.get_by_name('MyDaskWorkers')\n",
    "print workers"
   ]
  },
  {
   "cell_type": "code",
   "execution_count": 31,
   "metadata": {
    "collapsed": false
   },
   "outputs": [
    {
     "name": "stdout",
     "output_type": "stream",
     "text": [
      "172.31.28.64\n"
     ]
    },
    {
     "ename": "TypeError",
     "evalue": "exec_command() takes at least 2 arguments (1 given)",
     "output_type": "error",
     "traceback": [
      "\u001b[0;31m---------------------------------------------------------------------------\u001b[0m",
      "\u001b[0;31mTypeError\u001b[0m                                 Traceback (most recent call last)",
      "\u001b[0;32m<ipython-input-31-451f12495f4c>\u001b[0m in \u001b[0;36m<module>\u001b[0;34m()\u001b[0m\n\u001b[1;32m      1\u001b[0m \u001b[0;32mprint\u001b[0m \u001b[0mworkers\u001b[0m\u001b[0;34m[\u001b[0m\u001b[0;36m0\u001b[0m\u001b[0;34m]\u001b[0m\u001b[0;34m.\u001b[0m\u001b[0mprivate_ip_address\u001b[0m\u001b[0;34m\u001b[0m\u001b[0m\n\u001b[0;32m----> 2\u001b[0;31m \u001b[0mci\u001b[0m\u001b[0;34m.\u001b[0m\u001b[0mexec_command\u001b[0m\u001b[0;34m(\u001b[0m\u001b[0;34m)\u001b[0m\u001b[0;34m\u001b[0m\u001b[0m\n\u001b[0m",
      "\u001b[0;31mTypeError\u001b[0m: exec_command() takes at least 2 arguments (1 given)"
     ]
    }
   ],
   "source": [
    "print workers[0].private_ip_address\n",
    "ci.exec_command()"
   ]
  },
  {
   "cell_type": "code",
   "execution_count": 27,
   "metadata": {
    "collapsed": false
   },
   "outputs": [
    {
     "name": "stdout",
     "output_type": "stream",
     "text": [
      "/Users/pazcal/.xbow\n"
     ]
    }
   ],
   "source": [
    "print xbow.XBOW_CONFIGDIR"
   ]
  },
  {
   "cell_type": "code",
   "execution_count": null,
   "metadata": {
    "collapsed": true
   },
   "outputs": [],
   "source": []
  }
 ],
 "metadata": {
  "kernelspec": {
   "display_name": "Python 2",
   "language": "python",
   "name": "python2"
  },
  "language_info": {
   "codemirror_mode": {
    "name": "ipython",
    "version": 2
   },
   "file_extension": ".py",
   "mimetype": "text/x-python",
   "name": "python",
   "nbconvert_exporter": "python",
   "pygments_lexer": "ipython2",
   "version": "2.7.14"
  }
 },
 "nbformat": 4,
 "nbformat_minor": 2
}
