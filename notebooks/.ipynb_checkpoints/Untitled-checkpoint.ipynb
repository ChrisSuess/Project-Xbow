{
 "cells": [
  {
   "cell_type": "markdown",
   "metadata": {},
   "source": [
    "## Project-Xbow: Example notebook\n",
    "In this notebook we see how we can identify the head node of a running xbow-cluster"
   ]
  },
  {
   "cell_type": "code",
   "execution_count": 14,
   "metadata": {
    "collapsed": true
   },
   "outputs": [],
   "source": [
    "from xbow import instances\n",
    "import boto3\n",
    "ec2_resource = boto3.resource('ec2')"
   ]
  },
  {
   "cell_type": "code",
   "execution_count": 15,
   "metadata": {
    "collapsed": true
   },
   "outputs": [],
   "source": [
    "cluster_name = 'MyDaskCluster'\n",
    "scheduler_name = 'MyDaskScheduler'"
   ]
  },
  {
   "cell_type": "code",
   "execution_count": 63,
   "metadata": {
    "collapsed": false
   },
   "outputs": [
    {
     "name": "stdout",
     "output_type": "stream",
     "text": [
      "ec2.Instance(id='i-0f320eb570fee0a6f')\n"
     ]
    }
   ],
   "source": [
    "instances = list(ec2_resource.instances.filter(Filters=[{'Name': 'key-name', 'Values': [scheduler_name]},\n",
    "                                            {'Name': 'instance-state-name', 'Values': ['running']}]))\n",
    "if len(instances) == 0:\n",
    "    print('Error - cannot find {}'.format(scheduler_name))\n",
    "elif len(instances) > 1:\n",
    "    print('Error - more than one instance found with that name')\n",
    "else:\n",
    "    print instances[0]\n",
    "    ci = xbow.instances.ConnectedInstance(instances[0])\n",
    "        "
   ]
  },
  {
   "cell_type": "code",
   "execution_count": 25,
   "metadata": {
    "collapsed": true
   },
   "outputs": [],
   "source": [
    "ci.exec_command('ls')"
   ]
  },
  {
   "cell_type": "code",
   "execution_count": 26,
   "metadata": {
    "collapsed": false
   },
   "outputs": [
    {
     "name": "stdout",
     "output_type": "stream",
     "text": [
      "amber16\n",
      "build_gromacs_2016.4.sh\n",
      "build_gromacs.sh\n",
      "cocojob.sh\n",
      "dicker\n",
      "install_cuda.sh\n",
      "packages\n",
      "popylar\n",
      "shared\n",
      "TGTC\n",
      "TGTC_GMX\n",
      "tios\n",
      "\n"
     ]
    }
   ],
   "source": [
    "print ci.output"
   ]
  },
  {
   "cell_type": "code",
   "execution_count": 27,
   "metadata": {
    "collapsed": false
   },
   "outputs": [
    {
     "name": "stdout",
     "output_type": "stream",
     "text": [
      "10wk002ns100its.py\n",
      "csaw_0_0_0.rst\n",
      "csaw_0_0_1.rst\n",
      "csaw_0_0_2.rst\n",
      "csaw_0_0.nc\n",
      "csaw_0_1_0.rst\n",
      "csaw_0_1_1.rst\n",
      "csaw_0_1_2.rst\n",
      "csaw_0_1.nc\n",
      "csaw_amber.pdb\n",
      "csaw.min1\n",
      "csaw.top\n",
      "pipelines.py\n",
      "pipelines.pyc\n",
      "production_md.in\n",
      "README\n",
      "run_cocomd2.log\n",
      "run_cocomd2.py\n",
      "run_cocomd.py\n",
      "tmd_1.in\n",
      "tmd_2.in\n",
      "\n"
     ]
    }
   ],
   "source": [
    "ci.exec_command('ls shared/CoCo-MD_example')\n",
    "print ci.output"
   ]
  },
  {
   "cell_type": "code",
   "execution_count": 28,
   "metadata": {
    "collapsed": false
   },
   "outputs": [
    {
     "name": "stdout",
     "output_type": "stream",
     "text": [
      "10wk002ns100its.py\n",
      "csaw_amber.pdb\n",
      "csaw.min1\n",
      "csaw.top\n",
      "pipelines.py\n",
      "pipelines.pyc\n",
      "production_md.in\n",
      "README\n",
      "run_cocomd2.log\n",
      "run_cocomd2.py\n",
      "run_cocomd.py\n",
      "tmd_1.in\n",
      "tmd_2.in\n",
      "\n"
     ]
    }
   ],
   "source": [
    "ci.exec_command('rm -f shared/CoCo-MD_example/csaw_[01]*; ls shared/CoCo-MD_example')\n",
    "print ci.output"
   ]
  },
  {
   "cell_type": "code",
   "execution_count": 34,
   "metadata": {
    "collapsed": false
   },
   "outputs": [
    {
     "name": "stdout",
     "output_type": "stream",
     "text": [
      "#!/bin/bash\n",
      "cd shared/CoCo-MD_example\n",
      "python run_cocomd2.py > run_cocomd2.log\n",
      "\n"
     ]
    }
   ],
   "source": [
    "ci.exec_command('echo \\#\\!/bin/bash > crap.sh; echo cd shared/CoCo-MD_example >> crap.sh; echo python run_cocomd2.py \\> run_cocomd2.log >> crap.sh; cat crap.sh')\n",
    "print ci.output"
   ]
  },
  {
   "cell_type": "code",
   "execution_count": 64,
   "metadata": {
    "collapsed": false
   },
   "outputs": [
    {
     "name": "stdout",
     "output_type": "stream",
     "text": [
      "warning: commands will be executed using /bin/sh\n",
      "job 9 at Sat Jan 27 09:05:00 2018\n",
      "\n"
     ]
    }
   ],
   "source": [
    "ci.exec_command('batch < crap.sh')\n",
    "print ci.output"
   ]
  },
  {
   "cell_type": "code",
   "execution_count": 77,
   "metadata": {
    "collapsed": false
   },
   "outputs": [
    {
     "name": "stdout",
     "output_type": "stream",
     "text": [
      "10wk002ns100its.py\n",
      "coco0.log\n",
      "csaw_0_0_0.rst\n",
      "csaw_0_0_1.rst\n",
      "csaw_0_0_2.rst\n",
      "csaw_0_0.nc\n",
      "csaw_0_0.rst7\n",
      "csaw_0_1_0.rst\n",
      "csaw_0_1_1.rst\n",
      "csaw_0_1_2.rst\n",
      "csaw_0_1.nc\n",
      "csaw_0_1.rst7\n",
      "csaw_1_0_0.rst\n",
      "csaw_1_0_1.rst\n",
      "csaw_1_0_2.rst\n",
      "csaw_1_0.nc\n",
      "csaw_1_0.rst7\n",
      "csaw_amber.pdb\n",
      "csaw.min1\n",
      "csaw.top\n",
      "pipelines.py\n",
      "pipelines.pyc\n",
      "production_md.in\n",
      "README\n",
      "run_cocomd2.log\n",
      "run_cocomd2.py\n",
      "run_cocomd.py\n",
      "tmd_1.in\n",
      "tmd_2.in\n",
      "\n"
     ]
    }
   ],
   "source": [
    "ci.exec_command('ls shared/CoCo-MD_example')\n",
    "print ci.output"
   ]
  },
  {
   "cell_type": "code",
   "execution_count": 75,
   "metadata": {
    "collapsed": false
   },
   "outputs": [
    {
     "name": "stdout",
     "output_type": "stream",
     "text": [
      "[{'returncode': 0, 'input_file': '/home/ubuntu/shared/CoCo-MD_example/tmd_1.in', 'ref_coordinate_list': '/home/ubuntu/shared/CoCo-MD_example/csaw_1_0.rst7 /home/ubuntu/shared/CoCo-MD_example/csaw_1_0.rst7', 'trajectory': '/home/ubuntu/shared/CoCo-MD_example/csaw_1_0.nc', 'rep': 0, 'cmd': 'mpirun -np 2 pmemd.MPI -c /home/ubuntu/shared/CoCo-MD_example/csaw.min1 -p /home/ubuntu/shared/CoCo-MD_example/csaw.top -i /home/ubuntu/shared/CoCo-MD_example/tmd_1.in -r /home/ubuntu/shared/CoCo-MD_example/csaw_2_0_0.rst -ref /home/ubuntu/shared/CoCo-MD_example/csaw_1_0.rst7 -O', 'reps': '0 0', 'ref_coordinates': '/home/ubuntu/shared/CoCo-MD_example/csaw_1_0.rst7', 'template': 'mpirun -np 2 pmemd.MPI -c /home/ubuntu/shared/CoCo-MD_example/csaw.min1 -p /home/ubuntu/shared/CoCo-MD_example/csaw.top -i /home/ubuntu/shared/CoCo-MD_example/tmd_1.in -r /home/ubuntu/shared/CoCo-MD_example/csaw_2_0_0.rst -ref /home/ubuntu/shared/CoCo-MD_example/csaw_1_0.rst7 -O', 'shared': '/home/ubuntu/shared/CoCo-MD_example', 'output': 'INFO: Verbose output.\\nINFO: creating cofasu...\\nINFO: cofasu contains 85 atoms and 12 frames\\nINFO: time to load trajectory data: 1.00 s.\\nINFO: running pcazip...\\nINFO: Pcz: least-squares fitting snapshots...\\nINFO: Pcz: calculating covariance matrix...\\nINFO: Using fast approximate diagonalisation method\\nINFO: Pcz: diagonalizing covariance matrix...\\nINFO: Pcz: calculating projections...\\nINFO: Total variance: 43.69\\nINFO: generating new points...\\n', 'cycle': 2, 'end_coordinates': '/home/ubuntu/shared/CoCo-MD_example/csaw_2_0_0.rst', 'start_coordinates': '/home/ubuntu/shared/CoCo-MD_example/csaw_1_0_1.rst', 'stage': '0'}, {'returncode': 0, 'input_file': '/home/ubuntu/shared/CoCo-MD_example/tmd_1.in', 'ref_coordinate_list': '/home/ubuntu/shared/CoCo-MD_example/csaw_1_0.rst7 /home/ubuntu/shared/CoCo-MD_example/csaw_1_0.rst7', 'trajectory': '/home/ubuntu/shared/CoCo-MD_example/csaw_1_0.nc', 'rep': 0, 'cmd': 'mpirun -np 2 pmemd.MPI -c /home/ubuntu/shared/CoCo-MD_example/csaw.min1 -p /home/ubuntu/shared/CoCo-MD_example/csaw.top -i /home/ubuntu/shared/CoCo-MD_example/tmd_1.in -r /home/ubuntu/shared/CoCo-MD_example/csaw_2_0_0.rst -ref /home/ubuntu/shared/CoCo-MD_example/csaw_1_0.rst7 -O', 'reps': '0 0', 'ref_coordinates': '/home/ubuntu/shared/CoCo-MD_example/csaw_1_0.rst7', 'template': 'mpirun -np 2 pmemd.MPI -c /home/ubuntu/shared/CoCo-MD_example/csaw.min1 -p /home/ubuntu/shared/CoCo-MD_example/csaw.top -i /home/ubuntu/shared/CoCo-MD_example/tmd_1.in -r /home/ubuntu/shared/CoCo-MD_example/csaw_2_0_0.rst -ref /home/ubuntu/shared/CoCo-MD_example/csaw_1_0.rst7 -O', 'shared': '/home/ubuntu/shared/CoCo-MD_example', 'output': 'INFO: Verbose output.\\nINFO: creating cofasu...\\nINFO: cofasu contains 85 atoms and 12 frames\\nINFO: time to load trajectory data: 1.00 s.\\nINFO: running pcazip...\\nINFO: Pcz: least-squares fitting snapshots...\\nINFO: Pcz: calculating covariance matrix...\\nINFO: Using fast approximate diagonalisation method\\nINFO: Pcz: diagonalizing covariance matrix...\\nINFO: Pcz: calculating projections...\\nINFO: Total variance: 43.69\\nINFO: generating new points...\\n', 'cycle': 2, 'end_coordinates': '/home/ubuntu/shared/CoCo-MD_example/csaw_2_0_0.rst', 'start_coordinates': '/home/ubuntu/shared/CoCo-MD_example/csaw_1_0_1.rst', 'stage': '0'}]\n",
      "\n"
     ]
    }
   ],
   "source": [
    "ci.exec_command('cat shared/CoCo-MD_example/run_cocomd2.log')\n",
    "print ci.output"
   ]
  },
  {
   "cell_type": "code",
   "execution_count": 58,
   "metadata": {
    "collapsed": true
   },
   "outputs": [],
   "source": [
    "def string_splitter(s, qchar):\n",
    "    output = []\n",
    "    t = s.split()\n",
    "    qcount = 0\n",
    "    for w in t:\n",
    "        if qcount % 2 ==0:\n",
    "            output.append(w.replace(qchar, ''))\n",
    "            if qchar in w:\n",
    "                qcount += 1\n",
    "        else:\n",
    "            output[-1] += ' ' + w.replace(qchar, '')\n",
    "            if qchar in w:\n",
    "                qcount += 1\n",
    "    return output\n"
   ]
  },
  {
   "cell_type": "code",
   "execution_count": 60,
   "metadata": {
    "collapsed": false
   },
   "outputs": [
    {
     "name": "stdout",
     "output_type": "stream",
     "text": [
      "['hello']\n"
     ]
    }
   ],
   "source": [
    "print string_splitter('hello', '\"')"
   ]
  },
  {
   "cell_type": "code",
   "execution_count": 61,
   "metadata": {
    "collapsed": false
   },
   "outputs": [
    {
     "name": "stdout",
     "output_type": "stream",
     "text": [
      "['-s', '(not water) and mass > 2', '-a', '5']\n"
     ]
    }
   ],
   "source": [
    "print string_splitter('-s \"(not water) and mass > 2\" -a 5', '\"')"
   ]
  },
  {
   "cell_type": "code",
   "execution_count": null,
   "metadata": {
    "collapsed": true
   },
   "outputs": [],
   "source": []
  }
 ],
 "metadata": {
  "kernelspec": {
   "display_name": "Python 2",
   "language": "python",
   "name": "python2"
  },
  "language_info": {
   "codemirror_mode": {
    "name": "ipython",
    "version": 2
   },
   "file_extension": ".py",
   "mimetype": "text/x-python",
   "name": "python",
   "nbconvert_exporter": "python",
   "pygments_lexer": "ipython2",
   "version": "2.7.14"
  }
 },
 "nbformat": 4,
 "nbformat_minor": 2
}
